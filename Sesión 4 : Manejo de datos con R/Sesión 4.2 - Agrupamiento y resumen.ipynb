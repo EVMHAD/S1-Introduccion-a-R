{
 "cells": [
  {
   "cell_type": "markdown",
   "id": "disturbed-reference",
   "metadata": {},
   "source": [
    "<img src=\"./images/logo1.png\">"
   ]
  },
  {
   "cell_type": "markdown",
   "id": "humanitarian-congress",
   "metadata": {},
   "source": [
    "# <center> Introducción al Análisis de Datos con R "
   ]
  },
  {
   "cell_type": "markdown",
   "id": "solved-giant",
   "metadata": {},
   "source": [
    "## Sesión 4.2: Agrupamiento y resumen\n"
   ]
  },
  {
   "cell_type": "markdown",
   "id": "congressional-fireplace",
   "metadata": {},
   "source": [
    "> **group_by()** : Sirve para agrupar filas (filas) de un data frame para obtener variables de resumen.\n",
    "\n",
    "> **summarize()** : Sirve para obtener resumen de variables, dentro de esta podemos especifícar funciones resumen como : \n",
    "> - sum()\n",
    "> - mean() \n",
    "> - sd()\n",
    "> - var()\n",
    "> - max()\n",
    "> - min()\n",
    "> - n()\n",
    "> - n_dictinct()\n",
    "> - first()\n",
    "> - last()"
   ]
  },
  {
   "cell_type": "markdown",
   "id": "classified-breakdown",
   "metadata": {},
   "source": [
    "<img src=\"./images/fig04.png\">"
   ]
  },
  {
   "cell_type": "markdown",
   "id": "leading-gasoline",
   "metadata": {},
   "source": [
    "> pivot_longer()"
   ]
  },
  {
   "cell_type": "markdown",
   "id": "subsequent-december",
   "metadata": {},
   "source": [
    "<img src=\"./images/fig05.png\">"
   ]
  },
  {
   "cell_type": "markdown",
   "id": "posted-business",
   "metadata": {},
   "source": [
    "> pivot_wider()"
   ]
  },
  {
   "cell_type": "markdown",
   "id": "judicial-attack",
   "metadata": {},
   "source": [
    "<img src=\"./images/fig06.png\">"
   ]
  },
  {
   "cell_type": "code",
   "execution_count": 4,
   "id": "inappropriate-cleaner",
   "metadata": {},
   "outputs": [],
   "source": [
    "library(\"datasets\")\n",
    "library(\"tidyverse\")"
   ]
  },
  {
   "cell_type": "code",
   "execution_count": 25,
   "id": "promotional-maintenance",
   "metadata": {},
   "outputs": [
    {
     "data": {
      "text/html": [
       "<table>\n",
       "<caption>A data.frame: 6 × 5</caption>\n",
       "<thead>\n",
       "\t<tr><th></th><th scope=col>Sepal.Length</th><th scope=col>Sepal.Width</th><th scope=col>Petal.Length</th><th scope=col>Petal.Width</th><th scope=col>Species</th></tr>\n",
       "\t<tr><th></th><th scope=col>&lt;dbl&gt;</th><th scope=col>&lt;dbl&gt;</th><th scope=col>&lt;dbl&gt;</th><th scope=col>&lt;dbl&gt;</th><th scope=col>&lt;chr&gt;</th></tr>\n",
       "</thead>\n",
       "<tbody>\n",
       "\t<tr><th scope=row>1</th><td>5.1</td><td>3.5</td><td>1.4</td><td>0.2</td><td>setosa</td></tr>\n",
       "\t<tr><th scope=row>2</th><td>4.9</td><td>3.0</td><td>1.4</td><td>0.2</td><td>setosa</td></tr>\n",
       "\t<tr><th scope=row>3</th><td>4.7</td><td>3.2</td><td>1.3</td><td>0.2</td><td>setosa</td></tr>\n",
       "\t<tr><th scope=row>4</th><td>4.6</td><td>3.1</td><td>1.5</td><td>0.2</td><td>setosa</td></tr>\n",
       "\t<tr><th scope=row>5</th><td>5.0</td><td>3.6</td><td>1.4</td><td>0.2</td><td>setosa</td></tr>\n",
       "\t<tr><th scope=row>6</th><td>5.4</td><td>3.9</td><td>1.7</td><td>0.4</td><td>setosa</td></tr>\n",
       "</tbody>\n",
       "</table>\n"
      ],
      "text/latex": [
       "A data.frame: 6 × 5\n",
       "\\begin{tabular}{r|lllll}\n",
       "  & Sepal.Length & Sepal.Width & Petal.Length & Petal.Width & Species\\\\\n",
       "  & <dbl> & <dbl> & <dbl> & <dbl> & <chr>\\\\\n",
       "\\hline\n",
       "\t1 & 5.1 & 3.5 & 1.4 & 0.2 & setosa\\\\\n",
       "\t2 & 4.9 & 3.0 & 1.4 & 0.2 & setosa\\\\\n",
       "\t3 & 4.7 & 3.2 & 1.3 & 0.2 & setosa\\\\\n",
       "\t4 & 4.6 & 3.1 & 1.5 & 0.2 & setosa\\\\\n",
       "\t5 & 5.0 & 3.6 & 1.4 & 0.2 & setosa\\\\\n",
       "\t6 & 5.4 & 3.9 & 1.7 & 0.4 & setosa\\\\\n",
       "\\end{tabular}\n"
      ],
      "text/markdown": [
       "\n",
       "A data.frame: 6 × 5\n",
       "\n",
       "| <!--/--> | Sepal.Length &lt;dbl&gt; | Sepal.Width &lt;dbl&gt; | Petal.Length &lt;dbl&gt; | Petal.Width &lt;dbl&gt; | Species &lt;chr&gt; |\n",
       "|---|---|---|---|---|---|\n",
       "| 1 | 5.1 | 3.5 | 1.4 | 0.2 | setosa |\n",
       "| 2 | 4.9 | 3.0 | 1.4 | 0.2 | setosa |\n",
       "| 3 | 4.7 | 3.2 | 1.3 | 0.2 | setosa |\n",
       "| 4 | 4.6 | 3.1 | 1.5 | 0.2 | setosa |\n",
       "| 5 | 5.0 | 3.6 | 1.4 | 0.2 | setosa |\n",
       "| 6 | 5.4 | 3.9 | 1.7 | 0.4 | setosa |\n",
       "\n"
      ],
      "text/plain": [
       "  Sepal.Length Sepal.Width Petal.Length Petal.Width Species\n",
       "1 5.1          3.5         1.4          0.2         setosa \n",
       "2 4.9          3.0         1.4          0.2         setosa \n",
       "3 4.7          3.2         1.3          0.2         setosa \n",
       "4 4.6          3.1         1.5          0.2         setosa \n",
       "5 5.0          3.6         1.4          0.2         setosa \n",
       "6 5.4          3.9         1.7          0.4         setosa "
      ]
     },
     "metadata": {},
     "output_type": "display_data"
    }
   ],
   "source": [
    "# lectura de datos\n",
    "iris <- read.csv('./datasets/iris.csv')\n",
    "head(iris)"
   ]
  },
  {
   "cell_type": "code",
   "execution_count": 26,
   "id": "billion-ticket",
   "metadata": {},
   "outputs": [
    {
     "data": {
      "text/html": [
       "<style>\n",
       ".list-inline {list-style: none; margin:0; padding: 0}\n",
       ".list-inline>li {display: inline-block}\n",
       ".list-inline>li:not(:last-child)::after {content: \"\\00b7\"; padding: 0 .5ex}\n",
       "</style>\n",
       "<ol class=list-inline><li>'setosa'</li><li>'versicolor'</li><li>'virginica'</li></ol>\n"
      ],
      "text/latex": [
       "\\begin{enumerate*}\n",
       "\\item 'setosa'\n",
       "\\item 'versicolor'\n",
       "\\item 'virginica'\n",
       "\\end{enumerate*}\n"
      ],
      "text/markdown": [
       "1. 'setosa'\n",
       "2. 'versicolor'\n",
       "3. 'virginica'\n",
       "\n",
       "\n"
      ],
      "text/plain": [
       "[1] \"setosa\"     \"versicolor\" \"virginica\" "
      ]
     },
     "metadata": {},
     "output_type": "display_data"
    }
   ],
   "source": [
    "# número de especies\n",
    "unique(iris$Species)"
   ]
  },
  {
   "cell_type": "markdown",
   "id": "abandoned-affiliate",
   "metadata": {},
   "source": [
    "## ¿Cúantas observaciones hay por especie?"
   ]
  },
  {
   "cell_type": "code",
   "execution_count": 32,
   "id": "integrated-holmes",
   "metadata": {},
   "outputs": [
    {
     "data": {
      "text/html": [
       "<table>\n",
       "<caption>A tibble: 3 × 2</caption>\n",
       "<thead>\n",
       "\t<tr><th scope=col>Species</th><th scope=col>n</th></tr>\n",
       "\t<tr><th scope=col>&lt;chr&gt;</th><th scope=col>&lt;int&gt;</th></tr>\n",
       "</thead>\n",
       "<tbody>\n",
       "\t<tr><td>setosa    </td><td>50</td></tr>\n",
       "\t<tr><td>versicolor</td><td>50</td></tr>\n",
       "\t<tr><td>virginica </td><td>50</td></tr>\n",
       "</tbody>\n",
       "</table>\n"
      ],
      "text/latex": [
       "A tibble: 3 × 2\n",
       "\\begin{tabular}{ll}\n",
       " Species & n\\\\\n",
       " <chr> & <int>\\\\\n",
       "\\hline\n",
       "\t setosa     & 50\\\\\n",
       "\t versicolor & 50\\\\\n",
       "\t virginica  & 50\\\\\n",
       "\\end{tabular}\n"
      ],
      "text/markdown": [
       "\n",
       "A tibble: 3 × 2\n",
       "\n",
       "| Species &lt;chr&gt; | n &lt;int&gt; |\n",
       "|---|---|\n",
       "| setosa     | 50 |\n",
       "| versicolor | 50 |\n",
       "| virginica  | 50 |\n",
       "\n"
      ],
      "text/plain": [
       "  Species    n \n",
       "1 setosa     50\n",
       "2 versicolor 50\n",
       "3 virginica  50"
      ]
     },
     "metadata": {},
     "output_type": "display_data"
    }
   ],
   "source": [
    "df01 <- iris %>% \n",
    "    group_by(Species) %>% \n",
    "    summarize('n'=n())\n",
    "df01"
   ]
  },
  {
   "cell_type": "markdown",
   "id": "reduced-column",
   "metadata": {},
   "source": [
    "## ¿Cúal es el promedio de cada medición por especie?"
   ]
  },
  {
   "cell_type": "code",
   "execution_count": 34,
   "id": "developed-simulation",
   "metadata": {},
   "outputs": [],
   "source": [
    "df02 <- iris %>% \n",
    "    group_by(Species) %>% \n",
    "    summarize('Sepal_length'=mean(Sepal.Length),\n",
    "              'Petal_length'=mean(Petal.Length),\n",
    "              'Sepal_Width'=mean(Sepal.Width), \n",
    "              'Petal_Width'=mean(Petal.Width))"
   ]
  },
  {
   "cell_type": "code",
   "execution_count": 35,
   "id": "gentle-brown",
   "metadata": {},
   "outputs": [
    {
     "data": {
      "text/html": [
       "<table>\n",
       "<caption>A tibble: 3 × 5</caption>\n",
       "<thead>\n",
       "\t<tr><th scope=col>Species</th><th scope=col>Sepal_length</th><th scope=col>Petal_length</th><th scope=col>Sepal_Width</th><th scope=col>Petal_Width</th></tr>\n",
       "\t<tr><th scope=col>&lt;chr&gt;</th><th scope=col>&lt;dbl&gt;</th><th scope=col>&lt;dbl&gt;</th><th scope=col>&lt;dbl&gt;</th><th scope=col>&lt;dbl&gt;</th></tr>\n",
       "</thead>\n",
       "<tbody>\n",
       "\t<tr><td>setosa    </td><td>5.006</td><td>1.462</td><td>3.428</td><td>0.246</td></tr>\n",
       "\t<tr><td>versicolor</td><td>5.936</td><td>4.260</td><td>2.770</td><td>1.326</td></tr>\n",
       "\t<tr><td>virginica </td><td>6.588</td><td>5.552</td><td>2.974</td><td>2.026</td></tr>\n",
       "</tbody>\n",
       "</table>\n"
      ],
      "text/latex": [
       "A tibble: 3 × 5\n",
       "\\begin{tabular}{lllll}\n",
       " Species & Sepal\\_length & Petal\\_length & Sepal\\_Width & Petal\\_Width\\\\\n",
       " <chr> & <dbl> & <dbl> & <dbl> & <dbl>\\\\\n",
       "\\hline\n",
       "\t setosa     & 5.006 & 1.462 & 3.428 & 0.246\\\\\n",
       "\t versicolor & 5.936 & 4.260 & 2.770 & 1.326\\\\\n",
       "\t virginica  & 6.588 & 5.552 & 2.974 & 2.026\\\\\n",
       "\\end{tabular}\n"
      ],
      "text/markdown": [
       "\n",
       "A tibble: 3 × 5\n",
       "\n",
       "| Species &lt;chr&gt; | Sepal_length &lt;dbl&gt; | Petal_length &lt;dbl&gt; | Sepal_Width &lt;dbl&gt; | Petal_Width &lt;dbl&gt; |\n",
       "|---|---|---|---|---|\n",
       "| setosa     | 5.006 | 1.462 | 3.428 | 0.246 |\n",
       "| versicolor | 5.936 | 4.260 | 2.770 | 1.326 |\n",
       "| virginica  | 6.588 | 5.552 | 2.974 | 2.026 |\n",
       "\n"
      ],
      "text/plain": [
       "  Species    Sepal_length Petal_length Sepal_Width Petal_Width\n",
       "1 setosa     5.006        1.462        3.428       0.246      \n",
       "2 versicolor 5.936        4.260        2.770       1.326      \n",
       "3 virginica  6.588        5.552        2.974       2.026      "
      ]
     },
     "metadata": {},
     "output_type": "display_data"
    }
   ],
   "source": [
    "df02"
   ]
  },
  {
   "cell_type": "markdown",
   "id": "equivalent-monitor",
   "metadata": {},
   "source": [
    "## ¿Cúal es la desviación estándar de cada medición por especie?"
   ]
  },
  {
   "cell_type": "code",
   "execution_count": 36,
   "id": "vertical-fabric",
   "metadata": {},
   "outputs": [],
   "source": [
    "df03 <- iris %>% \n",
    "    group_by(Species) %>% \n",
    "    summarize('Sepal_length'=sd(Sepal.Length),\n",
    "              'Petal_length'=sd(Petal.Length),\n",
    "              'Sepal_Width'=sd(Sepal.Width), \n",
    "              'Petal_Width'=sd(Petal.Width))"
   ]
  },
  {
   "cell_type": "code",
   "execution_count": 37,
   "id": "corrected-underground",
   "metadata": {},
   "outputs": [
    {
     "data": {
      "text/html": [
       "<table>\n",
       "<caption>A tibble: 3 × 5</caption>\n",
       "<thead>\n",
       "\t<tr><th scope=col>Species</th><th scope=col>Sepal_length</th><th scope=col>Petal_length</th><th scope=col>Sepal_Width</th><th scope=col>Petal_Width</th></tr>\n",
       "\t<tr><th scope=col>&lt;chr&gt;</th><th scope=col>&lt;dbl&gt;</th><th scope=col>&lt;dbl&gt;</th><th scope=col>&lt;dbl&gt;</th><th scope=col>&lt;dbl&gt;</th></tr>\n",
       "</thead>\n",
       "<tbody>\n",
       "\t<tr><td>setosa    </td><td>0.3524897</td><td>0.1736640</td><td>0.3790644</td><td>0.1053856</td></tr>\n",
       "\t<tr><td>versicolor</td><td>0.5161711</td><td>0.4699110</td><td>0.3137983</td><td>0.1977527</td></tr>\n",
       "\t<tr><td>virginica </td><td>0.6358796</td><td>0.5518947</td><td>0.3224966</td><td>0.2746501</td></tr>\n",
       "</tbody>\n",
       "</table>\n"
      ],
      "text/latex": [
       "A tibble: 3 × 5\n",
       "\\begin{tabular}{lllll}\n",
       " Species & Sepal\\_length & Petal\\_length & Sepal\\_Width & Petal\\_Width\\\\\n",
       " <chr> & <dbl> & <dbl> & <dbl> & <dbl>\\\\\n",
       "\\hline\n",
       "\t setosa     & 0.3524897 & 0.1736640 & 0.3790644 & 0.1053856\\\\\n",
       "\t versicolor & 0.5161711 & 0.4699110 & 0.3137983 & 0.1977527\\\\\n",
       "\t virginica  & 0.6358796 & 0.5518947 & 0.3224966 & 0.2746501\\\\\n",
       "\\end{tabular}\n"
      ],
      "text/markdown": [
       "\n",
       "A tibble: 3 × 5\n",
       "\n",
       "| Species &lt;chr&gt; | Sepal_length &lt;dbl&gt; | Petal_length &lt;dbl&gt; | Sepal_Width &lt;dbl&gt; | Petal_Width &lt;dbl&gt; |\n",
       "|---|---|---|---|---|\n",
       "| setosa     | 0.3524897 | 0.1736640 | 0.3790644 | 0.1053856 |\n",
       "| versicolor | 0.5161711 | 0.4699110 | 0.3137983 | 0.1977527 |\n",
       "| virginica  | 0.6358796 | 0.5518947 | 0.3224966 | 0.2746501 |\n",
       "\n"
      ],
      "text/plain": [
       "  Species    Sepal_length Petal_length Sepal_Width Petal_Width\n",
       "1 setosa     0.3524897    0.1736640    0.3790644   0.1053856  \n",
       "2 versicolor 0.5161711    0.4699110    0.3137983   0.1977527  \n",
       "3 virginica  0.6358796    0.5518947    0.3224966   0.2746501  "
      ]
     },
     "metadata": {},
     "output_type": "display_data"
    }
   ],
   "source": [
    "df03"
   ]
  },
  {
   "cell_type": "markdown",
   "id": "antique-router",
   "metadata": {},
   "source": [
    "# Pivot tables"
   ]
  },
  {
   "cell_type": "code",
   "execution_count": 13,
   "id": "civic-stack",
   "metadata": {},
   "outputs": [],
   "source": [
    "url <- './df_DownJones.csv'"
   ]
  },
  {
   "cell_type": "code",
   "execution_count": 15,
   "id": "manufactured-pressing",
   "metadata": {},
   "outputs": [
    {
     "data": {
      "text/html": [
       "<table>\n",
       "<caption>A data.frame: 6 × 27</caption>\n",
       "<thead>\n",
       "\t<tr><th></th><th scope=col>Date</th><th scope=col>WMT</th><th scope=col>MRK</th><th scope=col>INTC</th><th scope=col>MSFT</th><th scope=col>MMM</th><th scope=col>AAPL</th><th scope=col>VZ</th><th scope=col>JNJ</th><th scope=col>KO</th><th scope=col>...</th><th scope=col>NKE</th><th scope=col>DIS</th><th scope=col>HD</th><th scope=col>TRV</th><th scope=col>RTX</th><th scope=col>AXP</th><th scope=col>CVX</th><th scope=col>JPM</th><th scope=col>XOM</th><th scope=col>BA</th></tr>\n",
       "\t<tr><th></th><th scope=col>&lt;date&gt;</th><th scope=col>&lt;dbl&gt;</th><th scope=col>&lt;dbl&gt;</th><th scope=col>&lt;dbl&gt;</th><th scope=col>&lt;dbl&gt;</th><th scope=col>&lt;dbl&gt;</th><th scope=col>&lt;dbl&gt;</th><th scope=col>&lt;dbl&gt;</th><th scope=col>&lt;dbl&gt;</th><th scope=col>&lt;dbl&gt;</th><th scope=col>...</th><th scope=col>&lt;dbl&gt;</th><th scope=col>&lt;dbl&gt;</th><th scope=col>&lt;dbl&gt;</th><th scope=col>&lt;dbl&gt;</th><th scope=col>&lt;dbl&gt;</th><th scope=col>&lt;dbl&gt;</th><th scope=col>&lt;dbl&gt;</th><th scope=col>&lt;dbl&gt;</th><th scope=col>&lt;dbl&gt;</th><th scope=col>&lt;dbl&gt;</th></tr>\n",
       "</thead>\n",
       "<tbody>\n",
       "\t<tr><th scope=row>1</th><td>1990-01-03</td><td>5.890625</td><td>13.31250</td><td>1.093750</td><td>0.619792</td><td>20.34375</td><td>0.334821</td><td>25.57449</td><td>7.515625</td><td>4.804688</td><td>...</td><td>0.859375</td><td>9.515615</td><td>1.870370</td><td>15.09375</td><td>4.316787</td><td>9.076314</td><td>17.00000</td><td>10.33333</td><td>12.3750</td><td>21.00000</td></tr>\n",
       "\t<tr><th scope=row>2</th><td>1990-01-04</td><td>5.859375</td><td>13.10417</td><td>1.117188</td><td>0.638021</td><td>20.50000</td><td>0.335938</td><td>24.59086</td><td>7.531250</td><td>4.781250</td><td>...</td><td>0.841797</td><td>9.505339</td><td>1.882716</td><td>15.37500</td><td>4.306954</td><td>8.979757</td><td>16.78125</td><td>10.37500</td><td>12.2500</td><td>20.91667</td></tr>\n",
       "\t<tr><th scope=row>3</th><td>1990-01-05</td><td>5.796875</td><td>12.83333</td><td>1.109375</td><td>0.622396</td><td>20.15625</td><td>0.337054</td><td>24.02878</td><td>7.453125</td><td>4.742188</td><td>...</td><td>0.867188</td><td>9.536167</td><td>1.858025</td><td>15.31250</td><td>4.306954</td><td>8.883201</td><td>16.53125</td><td>10.41667</td><td>12.1875</td><td>20.62500</td></tr>\n",
       "\t<tr><th scope=row>4</th><td>1990-01-08</td><td>5.875000</td><td>13.00000</td><td>1.125000</td><td>0.631944</td><td>20.68750</td><td>0.339286</td><td>24.22551</td><td>7.578125</td><td>4.843750</td><td>...</td><td>0.863281</td><td>9.608099</td><td>1.839506</td><td>15.37500</td><td>4.326621</td><td>8.818830</td><td>16.68750</td><td>10.41667</td><td>12.3750</td><td>20.87500</td></tr>\n",
       "\t<tr><th scope=row>5</th><td>1990-01-09</td><td>5.718750</td><td>12.89583</td><td>1.156250</td><td>0.630208</td><td>20.68750</td><td>0.335938</td><td>23.55102</td><td>7.343750</td><td>4.804688</td><td>...</td><td>0.847656</td><td>9.597823</td><td>1.790123</td><td>15.43750</td><td>4.277454</td><td>8.625717</td><td>16.56250</td><td>10.08333</td><td>12.1250</td><td>20.62500</td></tr>\n",
       "\t<tr><th scope=row>6</th><td>1990-01-10</td><td>5.718750</td><td>12.72917</td><td>1.125000</td><td>0.612847</td><td>20.56250</td><td>0.321429</td><td>22.93273</td><td>7.234375</td><td>4.773438</td><td>...</td><td>0.843750</td><td>9.289542</td><td>1.802469</td><td>15.37500</td><td>4.257788</td><td>8.561346</td><td>16.56250</td><td>10.04167</td><td>12.1875</td><td>20.70833</td></tr>\n",
       "</tbody>\n",
       "</table>\n"
      ],
      "text/latex": [
       "A data.frame: 6 × 27\n",
       "\\begin{tabular}{r|lllllllllllllllllllll}\n",
       "  & Date & WMT & MRK & INTC & MSFT & MMM & AAPL & VZ & JNJ & KO & ... & NKE & DIS & HD & TRV & RTX & AXP & CVX & JPM & XOM & BA\\\\\n",
       "  & <date> & <dbl> & <dbl> & <dbl> & <dbl> & <dbl> & <dbl> & <dbl> & <dbl> & <dbl> & ... & <dbl> & <dbl> & <dbl> & <dbl> & <dbl> & <dbl> & <dbl> & <dbl> & <dbl> & <dbl>\\\\\n",
       "\\hline\n",
       "\t1 & 1990-01-03 & 5.890625 & 13.31250 & 1.093750 & 0.619792 & 20.34375 & 0.334821 & 25.57449 & 7.515625 & 4.804688 & ... & 0.859375 & 9.515615 & 1.870370 & 15.09375 & 4.316787 & 9.076314 & 17.00000 & 10.33333 & 12.3750 & 21.00000\\\\\n",
       "\t2 & 1990-01-04 & 5.859375 & 13.10417 & 1.117188 & 0.638021 & 20.50000 & 0.335938 & 24.59086 & 7.531250 & 4.781250 & ... & 0.841797 & 9.505339 & 1.882716 & 15.37500 & 4.306954 & 8.979757 & 16.78125 & 10.37500 & 12.2500 & 20.91667\\\\\n",
       "\t3 & 1990-01-05 & 5.796875 & 12.83333 & 1.109375 & 0.622396 & 20.15625 & 0.337054 & 24.02878 & 7.453125 & 4.742188 & ... & 0.867188 & 9.536167 & 1.858025 & 15.31250 & 4.306954 & 8.883201 & 16.53125 & 10.41667 & 12.1875 & 20.62500\\\\\n",
       "\t4 & 1990-01-08 & 5.875000 & 13.00000 & 1.125000 & 0.631944 & 20.68750 & 0.339286 & 24.22551 & 7.578125 & 4.843750 & ... & 0.863281 & 9.608099 & 1.839506 & 15.37500 & 4.326621 & 8.818830 & 16.68750 & 10.41667 & 12.3750 & 20.87500\\\\\n",
       "\t5 & 1990-01-09 & 5.718750 & 12.89583 & 1.156250 & 0.630208 & 20.68750 & 0.335938 & 23.55102 & 7.343750 & 4.804688 & ... & 0.847656 & 9.597823 & 1.790123 & 15.43750 & 4.277454 & 8.625717 & 16.56250 & 10.08333 & 12.1250 & 20.62500\\\\\n",
       "\t6 & 1990-01-10 & 5.718750 & 12.72917 & 1.125000 & 0.612847 & 20.56250 & 0.321429 & 22.93273 & 7.234375 & 4.773438 & ... & 0.843750 & 9.289542 & 1.802469 & 15.37500 & 4.257788 & 8.561346 & 16.56250 & 10.04167 & 12.1875 & 20.70833\\\\\n",
       "\\end{tabular}\n"
      ],
      "text/markdown": [
       "\n",
       "A data.frame: 6 × 27\n",
       "\n",
       "| <!--/--> | Date &lt;date&gt; | WMT &lt;dbl&gt; | MRK &lt;dbl&gt; | INTC &lt;dbl&gt; | MSFT &lt;dbl&gt; | MMM &lt;dbl&gt; | AAPL &lt;dbl&gt; | VZ &lt;dbl&gt; | JNJ &lt;dbl&gt; | KO &lt;dbl&gt; | ... ... | NKE &lt;dbl&gt; | DIS &lt;dbl&gt; | HD &lt;dbl&gt; | TRV &lt;dbl&gt; | RTX &lt;dbl&gt; | AXP &lt;dbl&gt; | CVX &lt;dbl&gt; | JPM &lt;dbl&gt; | XOM &lt;dbl&gt; | BA &lt;dbl&gt; |\n",
       "|---|---|---|---|---|---|---|---|---|---|---|---|---|---|---|---|---|---|---|---|---|---|\n",
       "| 1 | 1990-01-03 | 5.890625 | 13.31250 | 1.093750 | 0.619792 | 20.34375 | 0.334821 | 25.57449 | 7.515625 | 4.804688 | ... | 0.859375 | 9.515615 | 1.870370 | 15.09375 | 4.316787 | 9.076314 | 17.00000 | 10.33333 | 12.3750 | 21.00000 |\n",
       "| 2 | 1990-01-04 | 5.859375 | 13.10417 | 1.117188 | 0.638021 | 20.50000 | 0.335938 | 24.59086 | 7.531250 | 4.781250 | ... | 0.841797 | 9.505339 | 1.882716 | 15.37500 | 4.306954 | 8.979757 | 16.78125 | 10.37500 | 12.2500 | 20.91667 |\n",
       "| 3 | 1990-01-05 | 5.796875 | 12.83333 | 1.109375 | 0.622396 | 20.15625 | 0.337054 | 24.02878 | 7.453125 | 4.742188 | ... | 0.867188 | 9.536167 | 1.858025 | 15.31250 | 4.306954 | 8.883201 | 16.53125 | 10.41667 | 12.1875 | 20.62500 |\n",
       "| 4 | 1990-01-08 | 5.875000 | 13.00000 | 1.125000 | 0.631944 | 20.68750 | 0.339286 | 24.22551 | 7.578125 | 4.843750 | ... | 0.863281 | 9.608099 | 1.839506 | 15.37500 | 4.326621 | 8.818830 | 16.68750 | 10.41667 | 12.3750 | 20.87500 |\n",
       "| 5 | 1990-01-09 | 5.718750 | 12.89583 | 1.156250 | 0.630208 | 20.68750 | 0.335938 | 23.55102 | 7.343750 | 4.804688 | ... | 0.847656 | 9.597823 | 1.790123 | 15.43750 | 4.277454 | 8.625717 | 16.56250 | 10.08333 | 12.1250 | 20.62500 |\n",
       "| 6 | 1990-01-10 | 5.718750 | 12.72917 | 1.125000 | 0.612847 | 20.56250 | 0.321429 | 22.93273 | 7.234375 | 4.773438 | ... | 0.843750 | 9.289542 | 1.802469 | 15.37500 | 4.257788 | 8.561346 | 16.56250 | 10.04167 | 12.1875 | 20.70833 |\n",
       "\n"
      ],
      "text/plain": [
       "  Date       WMT      MRK      INTC     MSFT     MMM      AAPL     VZ      \n",
       "1 1990-01-03 5.890625 13.31250 1.093750 0.619792 20.34375 0.334821 25.57449\n",
       "2 1990-01-04 5.859375 13.10417 1.117188 0.638021 20.50000 0.335938 24.59086\n",
       "3 1990-01-05 5.796875 12.83333 1.109375 0.622396 20.15625 0.337054 24.02878\n",
       "4 1990-01-08 5.875000 13.00000 1.125000 0.631944 20.68750 0.339286 24.22551\n",
       "5 1990-01-09 5.718750 12.89583 1.156250 0.630208 20.68750 0.335938 23.55102\n",
       "6 1990-01-10 5.718750 12.72917 1.125000 0.612847 20.56250 0.321429 22.93273\n",
       "  JNJ      KO       ... NKE      DIS      HD       TRV      RTX      AXP     \n",
       "1 7.515625 4.804688 ... 0.859375 9.515615 1.870370 15.09375 4.316787 9.076314\n",
       "2 7.531250 4.781250 ... 0.841797 9.505339 1.882716 15.37500 4.306954 8.979757\n",
       "3 7.453125 4.742188 ... 0.867188 9.536167 1.858025 15.31250 4.306954 8.883201\n",
       "4 7.578125 4.843750 ... 0.863281 9.608099 1.839506 15.37500 4.326621 8.818830\n",
       "5 7.343750 4.804688 ... 0.847656 9.597823 1.790123 15.43750 4.277454 8.625717\n",
       "6 7.234375 4.773438 ... 0.843750 9.289542 1.802469 15.37500 4.257788 8.561346\n",
       "  CVX      JPM      XOM     BA      \n",
       "1 17.00000 10.33333 12.3750 21.00000\n",
       "2 16.78125 10.37500 12.2500 20.91667\n",
       "3 16.53125 10.41667 12.1875 20.62500\n",
       "4 16.68750 10.41667 12.3750 20.87500\n",
       "5 16.56250 10.08333 12.1250 20.62500\n",
       "6 16.56250 10.04167 12.1875 20.70833"
      ]
     },
     "metadata": {},
     "output_type": "display_data"
    }
   ],
   "source": [
    "down <- read.csv(url) %>% \n",
    "    mutate(Date = as.Date(Date, \"%Y-%m-%d\"))\n",
    "\n",
    "head(down)"
   ]
  },
  {
   "cell_type": "markdown",
   "id": "weighted-stream",
   "metadata": {},
   "source": [
    "## Obtener el promedio del precio  por mes y año de cada activo"
   ]
  },
  {
   "cell_type": "code",
   "execution_count": 68,
   "id": "concerned-bidding",
   "metadata": {},
   "outputs": [],
   "source": [
    "down_longer <- down %>% \n",
    "    mutate(year = substring(Date,1,4),\n",
    "           month = substring(Date,6,7),\n",
    "           day = substring(Date, 9,10)) %>%\n",
    "    select(-Date) %>%\n",
    "    pivot_longer(cols=WMT:BA, names_to='name', values_to='price') "
   ]
  },
  {
   "cell_type": "code",
   "execution_count": 69,
   "id": "hourly-title",
   "metadata": {},
   "outputs": [
    {
     "data": {
      "text/html": [
       "<table>\n",
       "<caption>A tibble: 6 × 5</caption>\n",
       "<thead>\n",
       "\t<tr><th scope=col>year</th><th scope=col>month</th><th scope=col>day</th><th scope=col>name</th><th scope=col>price</th></tr>\n",
       "\t<tr><th scope=col>&lt;chr&gt;</th><th scope=col>&lt;chr&gt;</th><th scope=col>&lt;chr&gt;</th><th scope=col>&lt;chr&gt;</th><th scope=col>&lt;dbl&gt;</th></tr>\n",
       "</thead>\n",
       "<tbody>\n",
       "\t<tr><td>1990</td><td>01</td><td>03</td><td>WMT </td><td> 5.890625</td></tr>\n",
       "\t<tr><td>1990</td><td>01</td><td>03</td><td>MRK </td><td>13.312500</td></tr>\n",
       "\t<tr><td>1990</td><td>01</td><td>03</td><td>INTC</td><td> 1.093750</td></tr>\n",
       "\t<tr><td>1990</td><td>01</td><td>03</td><td>MSFT</td><td> 0.619792</td></tr>\n",
       "\t<tr><td>1990</td><td>01</td><td>03</td><td>MMM </td><td>20.343750</td></tr>\n",
       "\t<tr><td>1990</td><td>01</td><td>03</td><td>AAPL</td><td> 0.334821</td></tr>\n",
       "</tbody>\n",
       "</table>\n"
      ],
      "text/latex": [
       "A tibble: 6 × 5\n",
       "\\begin{tabular}{lllll}\n",
       " year & month & day & name & price\\\\\n",
       " <chr> & <chr> & <chr> & <chr> & <dbl>\\\\\n",
       "\\hline\n",
       "\t 1990 & 01 & 03 & WMT  &  5.890625\\\\\n",
       "\t 1990 & 01 & 03 & MRK  & 13.312500\\\\\n",
       "\t 1990 & 01 & 03 & INTC &  1.093750\\\\\n",
       "\t 1990 & 01 & 03 & MSFT &  0.619792\\\\\n",
       "\t 1990 & 01 & 03 & MMM  & 20.343750\\\\\n",
       "\t 1990 & 01 & 03 & AAPL &  0.334821\\\\\n",
       "\\end{tabular}\n"
      ],
      "text/markdown": [
       "\n",
       "A tibble: 6 × 5\n",
       "\n",
       "| year &lt;chr&gt; | month &lt;chr&gt; | day &lt;chr&gt; | name &lt;chr&gt; | price &lt;dbl&gt; |\n",
       "|---|---|---|---|---|\n",
       "| 1990 | 01 | 03 | WMT  |  5.890625 |\n",
       "| 1990 | 01 | 03 | MRK  | 13.312500 |\n",
       "| 1990 | 01 | 03 | INTC |  1.093750 |\n",
       "| 1990 | 01 | 03 | MSFT |  0.619792 |\n",
       "| 1990 | 01 | 03 | MMM  | 20.343750 |\n",
       "| 1990 | 01 | 03 | AAPL |  0.334821 |\n",
       "\n"
      ],
      "text/plain": [
       "  year month day name price    \n",
       "1 1990 01    03  WMT   5.890625\n",
       "2 1990 01    03  MRK  13.312500\n",
       "3 1990 01    03  INTC  1.093750\n",
       "4 1990 01    03  MSFT  0.619792\n",
       "5 1990 01    03  MMM  20.343750\n",
       "6 1990 01    03  AAPL  0.334821"
      ]
     },
     "metadata": {},
     "output_type": "display_data"
    }
   ],
   "source": [
    "head(down_longer)"
   ]
  },
  {
   "cell_type": "code",
   "execution_count": 20,
   "id": "afraid-proceeding",
   "metadata": {},
   "outputs": [],
   "source": [
    "down_avg <- down %>% \n",
    "    mutate(year = substring(Date,1,4),\n",
    "           month = substring(Date,6,7),\n",
    "           day = substring(Date, 9,10)) %>%\n",
    "    select(-Date) %>%\n",
    "    pivot_longer(cols=WMT:BA, names_to='name', values_to='price') %>%\n",
    "    group_by(year, month, name) %>%\n",
    "    summarize(mean_price = mean(price)) %>% \n",
    "    pivot_wider(names_from=name, values_from=mean_price)\n",
    "    "
   ]
  },
  {
   "cell_type": "code",
   "execution_count": 21,
   "id": "warming-creature",
   "metadata": {},
   "outputs": [
    {
     "data": {
      "text/html": [
       "<table>\n",
       "<caption>A grouped_df: 373 × 28</caption>\n",
       "<thead>\n",
       "\t<tr><th scope=col>year</th><th scope=col>month</th><th scope=col>AAPL</th><th scope=col>AXP</th><th scope=col>BA</th><th scope=col>CAT</th><th scope=col>CVX</th><th scope=col>DIS</th><th scope=col>HD</th><th scope=col>IBM</th><th scope=col>...</th><th scope=col>NKE</th><th scope=col>PFE</th><th scope=col>PG</th><th scope=col>RTX</th><th scope=col>TRV</th><th scope=col>UNH</th><th scope=col>VZ</th><th scope=col>WBA</th><th scope=col>WMT</th><th scope=col>XOM</th></tr>\n",
       "\t<tr><th scope=col>&lt;chr&gt;</th><th scope=col>&lt;chr&gt;</th><th scope=col>&lt;dbl&gt;</th><th scope=col>&lt;dbl&gt;</th><th scope=col>&lt;dbl&gt;</th><th scope=col>&lt;dbl&gt;</th><th scope=col>&lt;dbl&gt;</th><th scope=col>&lt;dbl&gt;</th><th scope=col>&lt;dbl&gt;</th><th scope=col>&lt;dbl&gt;</th><th scope=col>...</th><th scope=col>&lt;dbl&gt;</th><th scope=col>&lt;dbl&gt;</th><th scope=col>&lt;dbl&gt;</th><th scope=col>&lt;dbl&gt;</th><th scope=col>&lt;dbl&gt;</th><th scope=col>&lt;dbl&gt;</th><th scope=col>&lt;dbl&gt;</th><th scope=col>&lt;dbl&gt;</th><th scope=col>&lt;dbl&gt;</th><th scope=col>&lt;dbl&gt;</th></tr>\n",
       "</thead>\n",
       "<tbody>\n",
       "\t<tr><td>1990</td><td>01</td><td>0.3110652</td><td>8.262480</td><td>20.07143</td><td>7.091518</td><td>16.43750</td><td> 9.035087</td><td>1.816285</td><td>24.60863</td><td>...</td><td>0.8432851</td><td>2.753117</td><td> 8.401786</td><td>4.122464</td><td>14.54315</td><td>0.3227308</td><td>22.47504</td><td>2.698289</td><td> 5.520833</td><td>11.97768</td></tr>\n",
       "\t<tr><td>1990</td><td>02</td><td>0.3026903</td><td>7.467038</td><td>20.73684</td><td>7.070724</td><td>17.05757</td><td> 8.842264</td><td>1.835932</td><td>25.60197</td><td>...</td><td>0.8282280</td><td>2.569316</td><td> 8.112664</td><td>3.955028</td><td>14.60526</td><td>0.3096218</td><td>20.54095</td><td>2.603207</td><td> 5.300987</td><td>11.91118</td></tr>\n",
       "\t<tr><td>1990</td><td>03</td><td>0.3447646</td><td>7.092516</td><td>23.00947</td><td>7.672585</td><td>17.01847</td><td> 9.277864</td><td>2.178732</td><td>26.55540</td><td>...</td><td>0.9767402</td><td>2.374163</td><td> 8.242188</td><td>4.332431</td><td>15.13778</td><td>0.2988283</td><td>20.69720</td><td>2.654830</td><td> 5.794744</td><td>11.62358</td></tr>\n",
       "\t<tr><td>1990</td><td>04</td><td>0.3646765</td><td>7.027706</td><td>23.83542</td><td>7.586719</td><td>16.58594</td><td> 9.251520</td><td>2.289197</td><td>26.98750</td><td>...</td><td>1.0608400</td><td>2.291865</td><td> 8.706250</td><td>4.433311</td><td>14.67500</td><td>0.3179689</td><td>21.36735</td><td>2.660938</td><td> 6.132031</td><td>11.46250</td></tr>\n",
       "\t<tr><td>1990</td><td>05</td><td>0.3666296</td><td>7.377797</td><td>25.81818</td><td>8.208097</td><td>17.16477</td><td> 9.475912</td><td>2.674523</td><td>28.65483</td><td>...</td><td>1.1709873</td><td>2.380452</td><td> 9.542614</td><td>4.508088</td><td>14.51420</td><td>0.4185015</td><td>22.94806</td><td>2.736506</td><td> 6.711648</td><td>11.76989</td></tr>\n",
       "\t<tr><td>1990</td><td>06</td><td>0.3612352</td><td>7.919168</td><td>29.02679</td><td>7.871280</td><td>17.55208</td><td>10.559856</td><td>2.940623</td><td>29.76935</td><td>...</td><td>1.2017301</td><td>2.547693</td><td>10.386161</td><td>4.639879</td><td>14.92411</td><td>0.4877234</td><td>22.85511</td><td>2.921875</td><td> 7.646577</td><td>11.96726</td></tr>\n",
       "\t<tr><td>1990</td><td>07</td><td>0.3916880</td><td>7.899244</td><td>29.67560</td><td>6.504464</td><td>18.62500</td><td>10.476669</td><td>2.904321</td><td>29.31548</td><td>...</td><td>1.3598400</td><td>2.768413</td><td>11.034970</td><td>4.641752</td><td>14.86607</td><td>0.5647323</td><td>21.31877</td><td>3.180432</td><td> 8.249256</td><td>12.17113</td></tr>\n",
       "\t<tr><td>1990</td><td>08</td><td>0.3427311</td><td>6.577039</td><td>25.04620</td><td>5.670516</td><td>19.37092</td><td> 8.609536</td><td>2.515298</td><td>25.84239</td><td>...</td><td>1.1296706</td><td>2.785283</td><td> 9.805027</td><td>4.031624</td><td>14.21875</td><td>0.5337976</td><td>20.17367</td><td>2.882133</td><td> 7.228261</td><td>12.87908</td></tr>\n",
       "\t<tr><td>1990</td><td>09</td><td>0.2944665</td><td>5.873009</td><td>22.43421</td><td>5.320724</td><td>19.17270</td><td> 7.801679</td><td>2.415205</td><td>26.39967</td><td>...</td><td>1.0705183</td><td>2.805988</td><td> 9.396382</td><td>3.704022</td><td>13.24342</td><td>0.5516037</td><td>20.00401</td><td>2.829770</td><td> 6.723684</td><td>12.67270</td></tr>\n",
       "\t<tr><td>1990</td><td>10</td><td>0.2583462</td><td>5.057323</td><td>22.66848</td><td>5.144701</td><td>17.61277</td><td> 7.617227</td><td>2.204509</td><td>26.39946</td><td>...</td><td>0.9076937</td><td>2.946848</td><td> 9.732337</td><td>3.607940</td><td>12.63043</td><td>0.5022079</td><td>22.25091</td><td>2.879756</td><td> 6.730978</td><td>12.24321</td></tr>\n",
       "\t<tr><td>1990</td><td>11</td><td>0.3152636</td><td>5.249303</td><td>22.46726</td><td>5.178571</td><td>17.24702</td><td> 7.835726</td><td>2.470459</td><td>27.86458</td><td>...</td><td>1.0161832</td><td>3.047489</td><td>10.128720</td><td>3.513272</td><td>14.75298</td><td>0.5870537</td><td>23.80261</td><td>3.092634</td><td> 7.206845</td><td>12.52530</td></tr>\n",
       "\t<tr><td>1990</td><td>12</td><td>0.3718751</td><td>5.518206</td><td>22.76562</td><td>5.707031</td><td>17.65625</td><td> 8.421730</td><td>2.837963</td><td>28.30313</td><td>...</td><td>1.1875002</td><td>3.179356</td><td>10.717969</td><td>3.745968</td><td>15.87031</td><td>0.6941409</td><td>24.81569</td><td>3.184375</td><td> 7.728125</td><td>12.65625</td></tr>\n",
       "\t<tr><td>1991</td><td>01</td><td>0.4377030</td><td>5.238923</td><td>23.22443</td><td>5.738636</td><td>18.00568</td><td> 8.201683</td><td>2.931397</td><td>28.85369</td><td>...</td><td>1.2647374</td><td>3.193327</td><td>10.073153</td><td>3.589128</td><td>15.07102</td><td>0.7402345</td><td>22.38087</td><td>3.268466</td><td> 7.649148</td><td>12.76989</td></tr>\n",
       "\t<tr><td>1991</td><td>02</td><td>0.5220277</td><td>6.396447</td><td>24.54605</td><td>6.305099</td><td>18.13651</td><td> 9.786037</td><td>3.500975</td><td>33.05099</td><td>...</td><td>1.5039064</td><td>3.933688</td><td>10.318257</td><td>3.795626</td><td>16.84211</td><td>0.9564146</td><td>22.34699</td><td>3.873355</td><td> 9.004934</td><td>13.35691</td></tr>\n",
       "\t<tr><td>1991</td><td>03</td><td>0.5818639</td><td>7.011613</td><td>24.18750</td><td>6.557031</td><td>19.15156</td><td>10.071035</td><td>3.771759</td><td>30.83125</td><td>...</td><td>1.5160157</td><td>4.160490</td><td>10.554688</td><td>3.859051</td><td>17.01875</td><td>1.0839844</td><td>21.95472</td><td>4.060156</td><td> 9.278125</td><td>14.17969</td></tr>\n",
       "\t<tr><td>1991</td><td>04</td><td>0.5783280</td><td>7.151035</td><td>23.61364</td><td>6.017756</td><td>19.31392</td><td> 9.677229</td><td>4.215067</td><td>27.42045</td><td>...</td><td>1.4327060</td><td>4.441503</td><td>10.695312</td><td>3.687908</td><td>17.85511</td><td>1.2867544</td><td>22.33488</td><td>4.223011</td><td>10.454545</td><td>14.74716</td></tr>\n",
       "\t<tr><td>1991</td><td>05</td><td>0.4322240</td><td>6.280563</td><td>23.38636</td><td>6.190341</td><td>18.79261</td><td> 9.853790</td><td>4.490741</td><td>26.05682</td><td>...</td><td>1.3370030</td><td>4.537189</td><td>10.363636</td><td>3.518955</td><td>16.76705</td><td>1.4124646</td><td>21.19285</td><td>3.952415</td><td>10.288352</td><td>14.60227</td></tr>\n",
       "\t<tr><td>1991</td><td>06</td><td>0.3912389</td><td>6.178009</td><td>23.81563</td><td>6.375000</td><td>17.85469</td><td> 9.435975</td><td>4.924768</td><td>25.22500</td><td>...</td><td>1.2011719</td><td>4.486381</td><td>10.194531</td><td>3.591587</td><td>15.64844</td><td>1.4451173</td><td>20.54390</td><td>4.074219</td><td>10.635938</td><td>14.52969</td></tr>\n",
       "\t<tr><td>1991</td><td>07</td><td>0.4037643</td><td>6.055265</td><td>22.43466</td><td>6.080256</td><td>17.84375</td><td> 9.846316</td><td>5.255050</td><td>24.88778</td><td>...</td><td>1.2888851</td><td>4.632425</td><td> 9.962358</td><td>3.649916</td><td>15.78835</td><td>1.5777700</td><td>21.35125</td><td>4.159091</td><td>11.440341</td><td>14.70455</td></tr>\n",
       "\t<tr><td>1991</td><td>08</td><td>0.4643364</td><td>6.770661</td><td>23.61932</td><td>5.989347</td><td>17.70028</td><td> 9.765042</td><td>5.662247</td><td>24.36364</td><td>...</td><td>1.4472659</td><td>5.105011</td><td>10.262784</td><td>3.669135</td><td>16.12926</td><td>1.5639207</td><td>21.55053</td><td>4.238636</td><td>12.269886</td><td>14.58097</td></tr>\n",
       "\t<tr><td>1991</td><td>09</td><td>0.4487165</td><td>6.646308</td><td>25.14375</td><td>5.730469</td><td>18.02812</td><td> 9.347601</td><td>5.844445</td><td>25.65469</td><td>...</td><td>1.5849610</td><td>5.143600</td><td>10.442969</td><td>3.618136</td><td>15.99219</td><td>1.5330079</td><td>21.50787</td><td>4.134375</td><td>12.321875</td><td>14.72969</td></tr>\n",
       "\t<tr><td>1991</td><td>10</td><td>0.4544351</td><td>5.412763</td><td>24.60870</td><td>5.817255</td><td>18.81522</td><td> 9.555825</td><td>6.079106</td><td>24.90489</td><td>...</td><td>1.6511550</td><td>5.317476</td><td>10.359375</td><td>3.560484</td><td>15.04076</td><td>1.7635871</td><td>20.19811</td><td>3.972826</td><td>11.824728</td><td>15.13995</td></tr>\n",
       "\t<tr><td>1991</td><td>11</td><td>0.4590400</td><td>4.872886</td><td>23.46875</td><td>5.573437</td><td>17.66406</td><td> 9.082479</td><td>6.561111</td><td>24.28125</td><td>...</td><td>1.8316408</td><td>5.434654</td><td>10.282813</td><td>3.816768</td><td>16.64062</td><td>1.9193360</td><td>20.59730</td><td>4.116406</td><td>12.042188</td><td>14.85000</td></tr>\n",
       "\t<tr><td>1991</td><td>12</td><td>0.4587585</td><td>4.921318</td><td>21.94048</td><td>5.125744</td><td>16.74405</td><td> 8.908839</td><td>7.159391</td><td>22.03869</td><td>...</td><td>1.9802829</td><td>5.858257</td><td>10.703125</td><td>3.824658</td><td>17.01042</td><td>2.1088172</td><td>21.10732</td><td>4.406994</td><td>13.296131</td><td>14.49851</td></tr>\n",
       "\t<tr><td>1992</td><td>01</td><td>0.5589996</td><td>5.628075</td><td>25.24148</td><td>5.674716</td><td>16.76989</td><td>10.656255</td><td>7.375000</td><td>23.21449</td><td>...</td><td>2.2817829</td><td>6.234816</td><td>11.951705</td><td>4.133532</td><td>18.10795</td><td>2.5820314</td><td>21.02678</td><td>4.786932</td><td>14.143466</td><td>14.88068</td></tr>\n",
       "\t<tr><td>1992</td><td>02</td><td>0.5828244</td><td>5.529132</td><td>23.73355</td><td>6.226974</td><td>15.70888</td><td>12.071645</td><td>7.053363</td><td>22.44737</td><td>...</td><td>2.2931744</td><td>5.764381</td><td>12.618421</td><td>4.004712</td><td>18.07895</td><td>2.6321958</td><td>20.04839</td><td>4.652961</td><td>13.424342</td><td>14.50822</td></tr>\n",
       "\t<tr><td>1992</td><td>03</td><td>0.5652901</td><td>5.677817</td><td>22.50000</td><td>6.186790</td><td>15.73295</td><td>12.413926</td><td>7.118055</td><td>21.63636</td><td>...</td><td>2.1803979</td><td>5.647677</td><td>12.504261</td><td>4.119229</td><td>17.65483</td><td>2.4925427</td><td>18.97520</td><td>4.481534</td><td>13.261364</td><td>13.90199</td></tr>\n",
       "\t<tr><td>1992</td><td>04</td><td>0.5141902</td><td>5.807186</td><td>22.59524</td><td>6.566964</td><td>16.59524</td><td>12.490284</td><td>7.087963</td><td>21.71131</td><td>...</td><td>2.0678945</td><td>5.540590</td><td>12.640625</td><td>4.220328</td><td>17.34226</td><td>2.3709079</td><td>19.03031</td><td>4.305804</td><td>13.171131</td><td>14.46875</td></tr>\n",
       "\t<tr><td>1992</td><td>05</td><td>0.5406809</td><td>5.815922</td><td>21.87187</td><td>7.141406</td><td>17.20781</td><td>12.475628</td><td>7.280555</td><td>23.02188</td><td>...</td><td>1.9216799</td><td>5.692600</td><td>12.924219</td><td>4.180105</td><td>17.74063</td><td>2.4734375</td><td>19.69517</td><td>4.085938</td><td>13.103125</td><td>15.00781</td></tr>\n",
       "\t<tr><td>1992</td><td>06</td><td>0.4498782</td><td>6.069894</td><td>21.35227</td><td>7.060369</td><td>17.61506</td><td>12.039784</td><td>7.530303</td><td>23.36506</td><td>...</td><td>1.8007814</td><td>5.595567</td><td>12.170455</td><td>4.039669</td><td>18.50710</td><td>2.5775925</td><td>19.79277</td><td>4.014205</td><td>13.501420</td><td>15.53835</td></tr>\n",
       "\t<tr><td>...</td><td>...</td><td>...</td><td>...</td><td>...</td><td>...</td><td>...</td><td>...</td><td>...</td><td>...</td><td></td><td>...</td><td>...</td><td>...</td><td>...</td><td>...</td><td>...</td><td>...</td><td>...</td><td>...</td><td>...</td></tr>\n",
       "\t<tr><td>2018</td><td>08</td><td> 53.33652</td><td>103.48870</td><td>346.8278</td><td>138.5100</td><td>120.92478</td><td>112.9287</td><td>197.7900</td><td>145.5252</td><td>...</td><td> 80.95087</td><td>39.21417</td><td> 82.70130</td><td>84.15465</td><td>130.1017</td><td>261.9235</td><td>53.58435</td><td>68.25435</td><td> 92.98130</td><td>79.60913</td></tr>\n",
       "\t<tr><td>2018</td><td>09</td><td> 55.51842</td><td>108.36263</td><td>358.5921</td><td>147.7458</td><td>118.68316</td><td>111.4163</td><td>208.8368</td><td>148.4995</td><td>...</td><td> 83.20000</td><td>40.78448</td><td> 83.43579</td><td>86.30221</td><td>130.7032</td><td>265.1758</td><td>54.01421</td><td>70.70210</td><td> 95.43526</td><td>83.59000</td></tr>\n",
       "\t<tr><td>2018</td><td>10</td><td> 55.21141</td><td>104.51696</td><td>366.3756</td><td>136.6257</td><td>118.16913</td><td>115.2522</td><td>187.9335</td><td>136.8957</td><td>...</td><td> 76.61217</td><td>41.70531</td><td> 84.16652</td><td>82.44179</td><td>126.0604</td><td>264.4022</td><td>55.13130</td><td>75.14783</td><td> 96.52304</td><td>82.03391</td></tr>\n",
       "\t<tr><td>2018</td><td>11</td><td> 47.80893</td><td>107.90714</td><td>343.6033</td><td>127.4086</td><td>117.17905</td><td>115.5005</td><td>177.8933</td><td>120.6667</td><td>...</td><td> 74.78905</td><td>41.60658</td><td> 92.27714</td><td>80.13426</td><td>128.2705</td><td>268.9914</td><td>58.79048</td><td>81.82048</td><td> 99.58524</td><td>79.26238</td></tr>\n",
       "\t<tr><td>2018</td><td>12</td><td> 41.06658</td><td>101.14895</td><td>322.2274</td><td>125.1900</td><td>111.55053</td><td>109.8268</td><td>170.4763</td><td>117.1868</td><td>...</td><td> 72.66579</td><td>41.17298</td><td> 92.54053</td><td>71.80153</td><td>120.6332</td><td>258.5379</td><td>56.42789</td><td>75.72053</td><td> 92.00737</td><td>73.23684</td></tr>\n",
       "\t<tr><td>2019</td><td>01</td><td> 38.54155</td><td> 99.13143</td><td>352.3071</td><td>130.5943</td><td>112.24095</td><td>110.8986</td><td>177.6886</td><td>124.5914</td><td>...</td><td> 78.10429</td><td>40.03072</td><td> 92.41429</td><td>70.52594</td><td>121.6443</td><td>255.8448</td><td>56.62524</td><td>71.19143</td><td> 95.80905</td><td>71.61429</td></tr>\n",
       "\t<tr><td>2019</td><td>02</td><td> 42.93197</td><td>106.03053</td><td>414.5958</td><td>134.4847</td><td>119.07211</td><td>112.1663</td><td>187.5237</td><td>136.8632</td><td>...</td><td> 84.14000</td><td>40.22720</td><td> 98.71474</td><td>78.35646</td><td>128.6405</td><td>264.0974</td><td>55.13210</td><td>71.57474</td><td> 97.77526</td><td>76.77053</td></tr>\n",
       "\t<tr><td>2019</td><td>03</td><td> 45.82345</td><td>110.18191</td><td>390.7376</td><td>133.5600</td><td>123.68762</td><td>112.2843</td><td>185.4848</td><td>138.8838</td><td>...</td><td> 85.41572</td><td>39.90422</td><td>101.02953</td><td>79.30115</td><td>133.6105</td><td>245.9905</td><td>57.99476</td><td>62.42095</td><td> 98.27571</td><td>80.39667</td></tr>\n",
       "\t<tr><td>2019</td><td>04</td><td> 50.12905</td><td>112.44952</td><td>379.6605</td><td>139.9086</td><td>122.13619</td><td>125.8138</td><td>202.6352</td><td>141.7995</td><td>...</td><td> 86.55143</td><td>39.16283</td><td>104.74095</td><td>85.49402</td><td>137.7738</td><td>235.7271</td><td>58.11381</td><td>54.56143</td><td>100.89952</td><td>81.58667</td></tr>\n",
       "\t<tr><td>2019</td><td>05</td><td> 47.81841</td><td>118.12909</td><td>355.7386</td><td>127.6164</td><td>118.99954</td><td>133.7032</td><td>193.5068</td><td>134.8050</td><td>...</td><td> 82.85000</td><td>39.22762</td><td>105.77273</td><td>84.65959</td><td>145.1482</td><td>240.5455</td><td>57.44000</td><td>52.50818</td><td>101.35909</td><td>75.48727</td></tr>\n",
       "\t<tr><td>2019</td><td>06</td><td> 48.24225</td><td>121.96950</td><td>358.6600</td><td>128.9510</td><td>121.74600</td><td>138.5810</td><td>202.6895</td><td>135.6780</td><td>...</td><td> 83.09550</td><td>40.81214</td><td>109.42050</td><td>80.52423</td><td>149.9285</td><td>245.5270</td><td>57.29950</td><td>52.41100</td><td>108.23500</td><td>75.14350</td></tr>\n",
       "\t<tr><td>2019</td><td>07</td><td> 51.30409</td><td>126.60000</td><td>357.4545</td><td>135.2345</td><td>124.61364</td><td>142.8732</td><td>214.1623</td><td>145.3359</td><td>...</td><td> 87.24409</td><td>40.54813</td><td>114.57909</td><td>83.65954</td><td>151.4200</td><td>253.7532</td><td>56.92318</td><td>55.08818</td><td>112.88364</td><td>75.88091</td></tr>\n",
       "\t<tr><td>2019</td><td>08</td><td> 51.23943</td><td>122.33773</td><td>341.0827</td><td>118.3159</td><td>118.48409</td><td>136.5409</td><td>213.1164</td><td>135.9682</td><td>...</td><td> 81.92591</td><td>33.77350</td><td>117.89409</td><td>80.31638</td><td>146.6441</td><td>240.7136</td><td>56.32000</td><td>51.30182</td><td>110.29409</td><td>69.42636</td></tr>\n",
       "\t<tr><td>2019</td><td>09</td><td> 54.49875</td><td>118.58200</td><td>375.4620</td><td>127.6480</td><td>121.22700</td><td>135.1235</td><td>229.5030</td><td>142.0685</td><td>...</td><td> 88.33850</td><td>34.61053</td><td>122.39900</td><td>85.29578</td><td>147.8580</td><td>228.2150</td><td>59.72100</td><td>54.45500</td><td>116.83600</td><td>71.54850</td></tr>\n",
       "\t<tr><td>2019</td><td>10</td><td> 58.82163</td><td>116.32478</td><td>359.1278</td><td>129.5178</td><td>115.63435</td><td>130.1404</td><td>232.9996</td><td>138.1861</td><td>...</td><td> 92.87043</td><td>34.55078</td><td>121.61565</td><td>86.36742</td><td>138.2543</td><td>234.8257</td><td>60.15348</td><td>54.26478</td><td>118.59435</td><td>68.40478</td></tr>\n",
       "\t<tr><td>2019</td><td>11</td><td> 65.63013</td><td>120.06850</td><td>363.7250</td><td>145.2240</td><td>119.51000</td><td>142.8855</td><td>229.1330</td><td>135.4300</td><td>...</td><td> 91.69800</td><td>35.66983</td><td>120.72950</td><td>93.21208</td><td>133.9825</td><td>265.3285</td><td>59.71650</td><td>60.64500</td><td>119.31650</td><td>69.68600</td></tr>\n",
       "\t<tr><td>2019</td><td>12</td><td> 69.13143</td><td>122.48238</td><td>339.1376</td><td>145.1448</td><td>118.49571</td><td>146.7581</td><td>216.7890</td><td>133.9876</td><td>...</td><td> 98.26429</td><td>36.74076</td><td>124.70524</td><td>93.10558</td><td>135.8238</td><td>287.4481</td><td>61.07143</td><td>58.44905</td><td>119.55095</td><td>69.45667</td></tr>\n",
       "\t<tr><td>2020</td><td>01</td><td> 77.97905</td><td>129.24476</td><td>325.8671</td><td>143.6243</td><td>115.09000</td><td>142.8595</td><td>227.2000</td><td>137.8557</td><td>...</td><td>101.73952</td><td>37.30279</td><td>124.71190</td><td>96.25551</td><td>136.4329</td><td>291.3343</td><td>59.83286</td><td>54.59190</td><td>116.21095</td><td>67.82191</td></tr>\n",
       "\t<tr><td>2020</td><td>02</td><td> 77.81763</td><td>129.70000</td><td>326.0979</td><td>133.8768</td><td>106.70263</td><td>136.6874</td><td>238.2574</td><td>148.6463</td><td>...</td><td> 98.78053</td><td>34.54110</td><td>123.73105</td><td>93.90315</td><td>133.4905</td><td>286.2432</td><td>58.05579</td><td>51.25053</td><td>115.63632</td><td>58.64000</td></tr>\n",
       "\t<tr><td>2020</td><td>03</td><td> 65.61102</td><td> 92.51500</td><td>178.7441</td><td>107.2591</td><td> 76.46409</td><td>101.8877</td><td>196.0245</td><td>112.8136</td><td>...</td><td> 79.76273</td><td>30.59082</td><td>112.34182</td><td>65.52635</td><td>104.9545</td><td>250.2177</td><td>53.99136</td><td>46.65591</td><td>114.41727</td><td>40.22545</td></tr>\n",
       "\t<tr><td>2020</td><td>04</td><td> 68.09655</td><td> 85.33429</td><td>138.6538</td><td>116.1119</td><td> 83.82191</td><td>102.4933</td><td>201.6514</td><td>119.0771</td><td>...</td><td> 85.87143</td><td>33.95274</td><td>117.64857</td><td>62.04428</td><td>102.0581</td><td>272.0333</td><td>57.11048</td><td>43.42476</td><td>125.78810</td><td>42.29333</td></tr>\n",
       "\t<tr><td>2020</td><td>05</td><td> 77.49638</td><td> 88.42200</td><td>132.8990</td><td>111.8400</td><td> 91.57850</td><td>110.9540</td><td>235.7525</td><td>121.1750</td><td>...</td><td> 91.08700</td><td>35.77135</td><td>114.30350</td><td>59.19900</td><td> 97.2115</td><td>290.8275</td><td>55.45500</td><td>40.87600</td><td>124.07350</td><td>44.49100</td></tr>\n",
       "\t<tr><td>2020</td><td>06</td><td> 86.45159</td><td>101.81909</td><td>187.0036</td><td>126.9995</td><td> 93.11227</td><td>117.4386</td><td>248.6995</td><td>124.0691</td><td>...</td><td> 99.53818</td><td>32.35725</td><td>117.72364</td><td>65.65409</td><td>115.9791</td><td>296.4864</td><td>56.15955</td><td>42.99000</td><td>120.50636</td><td>47.61773</td></tr>\n",
       "\t<tr><td>2020</td><td>07</td><td> 95.56625</td><td> 94.80318</td><td>175.8041</td><td>133.7850</td><td> 87.84500</td><td>116.8995</td><td>257.7500</td><td>122.5345</td><td>...</td><td> 97.56818</td><td>34.35829</td><td>125.07364</td><td>61.03318</td><td>116.2655</td><td>301.5655</td><td>55.78727</td><td>40.82909</td><td>128.98182</td><td>43.41909</td></tr>\n",
       "\t<tr><td>2020</td><td>08</td><td>117.29976</td><td> 98.61952</td><td>172.7114</td><td>139.0629</td><td> 87.15571</td><td>129.0467</td><td>280.0362</td><td>124.9795</td><td>...</td><td>106.48952</td><td>36.32782</td><td>135.79952</td><td>61.49429</td><td>115.7629</td><td>314.4033</td><td>58.75381</td><td>40.47905</td><td>132.46905</td><td>42.34619</td></tr>\n",
       "\t<tr><td>2020</td><td>09</td><td>115.12524</td><td>101.87381</td><td>162.5143</td><td>148.8948</td><td> 77.13143</td><td>129.4281</td><td>275.4467</td><td>121.9629</td><td>...</td><td>118.47619</td><td>34.52652</td><td>137.78429</td><td>60.10667</td><td>111.8390</td><td>305.8033</td><td>59.87333</td><td>35.90143</td><td>138.90714</td><td>36.75238</td></tr>\n",
       "\t<tr><td>2020</td><td>10</td><td>116.41318</td><td>101.30318</td><td>162.8395</td><td>160.0150</td><td> 71.92273</td><td>124.3718</td><td>281.1668</td><td>119.8986</td><td>...</td><td>127.71136</td><td>34.95084</td><td>141.36591</td><td>59.22500</td><td>116.5845</td><td>320.7236</td><td>58.24227</td><td>36.40636</td><td>142.59500</td><td>33.67818</td></tr>\n",
       "\t<tr><td>2020</td><td>11</td><td>116.82600</td><td>111.18850</td><td>188.9310</td><td>170.0970</td><td> 82.83300</td><td>138.8800</td><td>275.6150</td><td>117.6650</td><td>...</td><td>130.21600</td><td>36.08652</td><td>140.43950</td><td>66.48350</td><td>132.3025</td><td>342.9505</td><td>59.88100</td><td>39.07450</td><td>148.10000</td><td>36.85050</td></tr>\n",
       "\t<tr><td>2020</td><td>12</td><td>127.29045</td><td>119.80409</td><td>224.6050</td><td>178.6795</td><td> 88.30909</td><td>166.9273</td><td>267.9445</td><td>124.8118</td><td>...</td><td>139.34045</td><td>38.94864</td><td>137.54091</td><td>71.55773</td><td>136.7305</td><td>342.6273</td><td>60.10091</td><td>40.74727</td><td>146.57682</td><td>41.89273</td></tr>\n",
       "\t<tr><td>2021</td><td>01</td><td>133.03684</td><td>121.58421</td><td>205.8374</td><td>190.5442</td><td> 90.78368</td><td>173.8458</td><td>273.6616</td><td>125.8447</td><td>...</td><td>140.37632</td><td>36.79842</td><td>134.52000</td><td>68.81579</td><td>141.1905</td><td>350.4316</td><td>57.29158</td><td>47.30421</td><td>145.75842</td><td>46.54211</td></tr>\n",
       "</tbody>\n",
       "</table>\n"
      ],
      "text/latex": [
       "A grouped\\_df: 373 × 28\n",
       "\\begin{tabular}{lllllllllllllllllllll}\n",
       " year & month & AAPL & AXP & BA & CAT & CVX & DIS & HD & IBM & ... & NKE & PFE & PG & RTX & TRV & UNH & VZ & WBA & WMT & XOM\\\\\n",
       " <chr> & <chr> & <dbl> & <dbl> & <dbl> & <dbl> & <dbl> & <dbl> & <dbl> & <dbl> & ... & <dbl> & <dbl> & <dbl> & <dbl> & <dbl> & <dbl> & <dbl> & <dbl> & <dbl> & <dbl>\\\\\n",
       "\\hline\n",
       "\t 1990 & 01 & 0.3110652 & 8.262480 & 20.07143 & 7.091518 & 16.43750 &  9.035087 & 1.816285 & 24.60863 & ... & 0.8432851 & 2.753117 &  8.401786 & 4.122464 & 14.54315 & 0.3227308 & 22.47504 & 2.698289 &  5.520833 & 11.97768\\\\\n",
       "\t 1990 & 02 & 0.3026903 & 7.467038 & 20.73684 & 7.070724 & 17.05757 &  8.842264 & 1.835932 & 25.60197 & ... & 0.8282280 & 2.569316 &  8.112664 & 3.955028 & 14.60526 & 0.3096218 & 20.54095 & 2.603207 &  5.300987 & 11.91118\\\\\n",
       "\t 1990 & 03 & 0.3447646 & 7.092516 & 23.00947 & 7.672585 & 17.01847 &  9.277864 & 2.178732 & 26.55540 & ... & 0.9767402 & 2.374163 &  8.242188 & 4.332431 & 15.13778 & 0.2988283 & 20.69720 & 2.654830 &  5.794744 & 11.62358\\\\\n",
       "\t 1990 & 04 & 0.3646765 & 7.027706 & 23.83542 & 7.586719 & 16.58594 &  9.251520 & 2.289197 & 26.98750 & ... & 1.0608400 & 2.291865 &  8.706250 & 4.433311 & 14.67500 & 0.3179689 & 21.36735 & 2.660938 &  6.132031 & 11.46250\\\\\n",
       "\t 1990 & 05 & 0.3666296 & 7.377797 & 25.81818 & 8.208097 & 17.16477 &  9.475912 & 2.674523 & 28.65483 & ... & 1.1709873 & 2.380452 &  9.542614 & 4.508088 & 14.51420 & 0.4185015 & 22.94806 & 2.736506 &  6.711648 & 11.76989\\\\\n",
       "\t 1990 & 06 & 0.3612352 & 7.919168 & 29.02679 & 7.871280 & 17.55208 & 10.559856 & 2.940623 & 29.76935 & ... & 1.2017301 & 2.547693 & 10.386161 & 4.639879 & 14.92411 & 0.4877234 & 22.85511 & 2.921875 &  7.646577 & 11.96726\\\\\n",
       "\t 1990 & 07 & 0.3916880 & 7.899244 & 29.67560 & 6.504464 & 18.62500 & 10.476669 & 2.904321 & 29.31548 & ... & 1.3598400 & 2.768413 & 11.034970 & 4.641752 & 14.86607 & 0.5647323 & 21.31877 & 3.180432 &  8.249256 & 12.17113\\\\\n",
       "\t 1990 & 08 & 0.3427311 & 6.577039 & 25.04620 & 5.670516 & 19.37092 &  8.609536 & 2.515298 & 25.84239 & ... & 1.1296706 & 2.785283 &  9.805027 & 4.031624 & 14.21875 & 0.5337976 & 20.17367 & 2.882133 &  7.228261 & 12.87908\\\\\n",
       "\t 1990 & 09 & 0.2944665 & 5.873009 & 22.43421 & 5.320724 & 19.17270 &  7.801679 & 2.415205 & 26.39967 & ... & 1.0705183 & 2.805988 &  9.396382 & 3.704022 & 13.24342 & 0.5516037 & 20.00401 & 2.829770 &  6.723684 & 12.67270\\\\\n",
       "\t 1990 & 10 & 0.2583462 & 5.057323 & 22.66848 & 5.144701 & 17.61277 &  7.617227 & 2.204509 & 26.39946 & ... & 0.9076937 & 2.946848 &  9.732337 & 3.607940 & 12.63043 & 0.5022079 & 22.25091 & 2.879756 &  6.730978 & 12.24321\\\\\n",
       "\t 1990 & 11 & 0.3152636 & 5.249303 & 22.46726 & 5.178571 & 17.24702 &  7.835726 & 2.470459 & 27.86458 & ... & 1.0161832 & 3.047489 & 10.128720 & 3.513272 & 14.75298 & 0.5870537 & 23.80261 & 3.092634 &  7.206845 & 12.52530\\\\\n",
       "\t 1990 & 12 & 0.3718751 & 5.518206 & 22.76562 & 5.707031 & 17.65625 &  8.421730 & 2.837963 & 28.30313 & ... & 1.1875002 & 3.179356 & 10.717969 & 3.745968 & 15.87031 & 0.6941409 & 24.81569 & 3.184375 &  7.728125 & 12.65625\\\\\n",
       "\t 1991 & 01 & 0.4377030 & 5.238923 & 23.22443 & 5.738636 & 18.00568 &  8.201683 & 2.931397 & 28.85369 & ... & 1.2647374 & 3.193327 & 10.073153 & 3.589128 & 15.07102 & 0.7402345 & 22.38087 & 3.268466 &  7.649148 & 12.76989\\\\\n",
       "\t 1991 & 02 & 0.5220277 & 6.396447 & 24.54605 & 6.305099 & 18.13651 &  9.786037 & 3.500975 & 33.05099 & ... & 1.5039064 & 3.933688 & 10.318257 & 3.795626 & 16.84211 & 0.9564146 & 22.34699 & 3.873355 &  9.004934 & 13.35691\\\\\n",
       "\t 1991 & 03 & 0.5818639 & 7.011613 & 24.18750 & 6.557031 & 19.15156 & 10.071035 & 3.771759 & 30.83125 & ... & 1.5160157 & 4.160490 & 10.554688 & 3.859051 & 17.01875 & 1.0839844 & 21.95472 & 4.060156 &  9.278125 & 14.17969\\\\\n",
       "\t 1991 & 04 & 0.5783280 & 7.151035 & 23.61364 & 6.017756 & 19.31392 &  9.677229 & 4.215067 & 27.42045 & ... & 1.4327060 & 4.441503 & 10.695312 & 3.687908 & 17.85511 & 1.2867544 & 22.33488 & 4.223011 & 10.454545 & 14.74716\\\\\n",
       "\t 1991 & 05 & 0.4322240 & 6.280563 & 23.38636 & 6.190341 & 18.79261 &  9.853790 & 4.490741 & 26.05682 & ... & 1.3370030 & 4.537189 & 10.363636 & 3.518955 & 16.76705 & 1.4124646 & 21.19285 & 3.952415 & 10.288352 & 14.60227\\\\\n",
       "\t 1991 & 06 & 0.3912389 & 6.178009 & 23.81563 & 6.375000 & 17.85469 &  9.435975 & 4.924768 & 25.22500 & ... & 1.2011719 & 4.486381 & 10.194531 & 3.591587 & 15.64844 & 1.4451173 & 20.54390 & 4.074219 & 10.635938 & 14.52969\\\\\n",
       "\t 1991 & 07 & 0.4037643 & 6.055265 & 22.43466 & 6.080256 & 17.84375 &  9.846316 & 5.255050 & 24.88778 & ... & 1.2888851 & 4.632425 &  9.962358 & 3.649916 & 15.78835 & 1.5777700 & 21.35125 & 4.159091 & 11.440341 & 14.70455\\\\\n",
       "\t 1991 & 08 & 0.4643364 & 6.770661 & 23.61932 & 5.989347 & 17.70028 &  9.765042 & 5.662247 & 24.36364 & ... & 1.4472659 & 5.105011 & 10.262784 & 3.669135 & 16.12926 & 1.5639207 & 21.55053 & 4.238636 & 12.269886 & 14.58097\\\\\n",
       "\t 1991 & 09 & 0.4487165 & 6.646308 & 25.14375 & 5.730469 & 18.02812 &  9.347601 & 5.844445 & 25.65469 & ... & 1.5849610 & 5.143600 & 10.442969 & 3.618136 & 15.99219 & 1.5330079 & 21.50787 & 4.134375 & 12.321875 & 14.72969\\\\\n",
       "\t 1991 & 10 & 0.4544351 & 5.412763 & 24.60870 & 5.817255 & 18.81522 &  9.555825 & 6.079106 & 24.90489 & ... & 1.6511550 & 5.317476 & 10.359375 & 3.560484 & 15.04076 & 1.7635871 & 20.19811 & 3.972826 & 11.824728 & 15.13995\\\\\n",
       "\t 1991 & 11 & 0.4590400 & 4.872886 & 23.46875 & 5.573437 & 17.66406 &  9.082479 & 6.561111 & 24.28125 & ... & 1.8316408 & 5.434654 & 10.282813 & 3.816768 & 16.64062 & 1.9193360 & 20.59730 & 4.116406 & 12.042188 & 14.85000\\\\\n",
       "\t 1991 & 12 & 0.4587585 & 4.921318 & 21.94048 & 5.125744 & 16.74405 &  8.908839 & 7.159391 & 22.03869 & ... & 1.9802829 & 5.858257 & 10.703125 & 3.824658 & 17.01042 & 2.1088172 & 21.10732 & 4.406994 & 13.296131 & 14.49851\\\\\n",
       "\t 1992 & 01 & 0.5589996 & 5.628075 & 25.24148 & 5.674716 & 16.76989 & 10.656255 & 7.375000 & 23.21449 & ... & 2.2817829 & 6.234816 & 11.951705 & 4.133532 & 18.10795 & 2.5820314 & 21.02678 & 4.786932 & 14.143466 & 14.88068\\\\\n",
       "\t 1992 & 02 & 0.5828244 & 5.529132 & 23.73355 & 6.226974 & 15.70888 & 12.071645 & 7.053363 & 22.44737 & ... & 2.2931744 & 5.764381 & 12.618421 & 4.004712 & 18.07895 & 2.6321958 & 20.04839 & 4.652961 & 13.424342 & 14.50822\\\\\n",
       "\t 1992 & 03 & 0.5652901 & 5.677817 & 22.50000 & 6.186790 & 15.73295 & 12.413926 & 7.118055 & 21.63636 & ... & 2.1803979 & 5.647677 & 12.504261 & 4.119229 & 17.65483 & 2.4925427 & 18.97520 & 4.481534 & 13.261364 & 13.90199\\\\\n",
       "\t 1992 & 04 & 0.5141902 & 5.807186 & 22.59524 & 6.566964 & 16.59524 & 12.490284 & 7.087963 & 21.71131 & ... & 2.0678945 & 5.540590 & 12.640625 & 4.220328 & 17.34226 & 2.3709079 & 19.03031 & 4.305804 & 13.171131 & 14.46875\\\\\n",
       "\t 1992 & 05 & 0.5406809 & 5.815922 & 21.87187 & 7.141406 & 17.20781 & 12.475628 & 7.280555 & 23.02188 & ... & 1.9216799 & 5.692600 & 12.924219 & 4.180105 & 17.74063 & 2.4734375 & 19.69517 & 4.085938 & 13.103125 & 15.00781\\\\\n",
       "\t 1992 & 06 & 0.4498782 & 6.069894 & 21.35227 & 7.060369 & 17.61506 & 12.039784 & 7.530303 & 23.36506 & ... & 1.8007814 & 5.595567 & 12.170455 & 4.039669 & 18.50710 & 2.5775925 & 19.79277 & 4.014205 & 13.501420 & 15.53835\\\\\n",
       "\t ... & ... & ... & ... & ... & ... & ... & ... & ... & ... &  & ... & ... & ... & ... & ... & ... & ... & ... & ... & ...\\\\\n",
       "\t 2018 & 08 &  53.33652 & 103.48870 & 346.8278 & 138.5100 & 120.92478 & 112.9287 & 197.7900 & 145.5252 & ... &  80.95087 & 39.21417 &  82.70130 & 84.15465 & 130.1017 & 261.9235 & 53.58435 & 68.25435 &  92.98130 & 79.60913\\\\\n",
       "\t 2018 & 09 &  55.51842 & 108.36263 & 358.5921 & 147.7458 & 118.68316 & 111.4163 & 208.8368 & 148.4995 & ... &  83.20000 & 40.78448 &  83.43579 & 86.30221 & 130.7032 & 265.1758 & 54.01421 & 70.70210 &  95.43526 & 83.59000\\\\\n",
       "\t 2018 & 10 &  55.21141 & 104.51696 & 366.3756 & 136.6257 & 118.16913 & 115.2522 & 187.9335 & 136.8957 & ... &  76.61217 & 41.70531 &  84.16652 & 82.44179 & 126.0604 & 264.4022 & 55.13130 & 75.14783 &  96.52304 & 82.03391\\\\\n",
       "\t 2018 & 11 &  47.80893 & 107.90714 & 343.6033 & 127.4086 & 117.17905 & 115.5005 & 177.8933 & 120.6667 & ... &  74.78905 & 41.60658 &  92.27714 & 80.13426 & 128.2705 & 268.9914 & 58.79048 & 81.82048 &  99.58524 & 79.26238\\\\\n",
       "\t 2018 & 12 &  41.06658 & 101.14895 & 322.2274 & 125.1900 & 111.55053 & 109.8268 & 170.4763 & 117.1868 & ... &  72.66579 & 41.17298 &  92.54053 & 71.80153 & 120.6332 & 258.5379 & 56.42789 & 75.72053 &  92.00737 & 73.23684\\\\\n",
       "\t 2019 & 01 &  38.54155 &  99.13143 & 352.3071 & 130.5943 & 112.24095 & 110.8986 & 177.6886 & 124.5914 & ... &  78.10429 & 40.03072 &  92.41429 & 70.52594 & 121.6443 & 255.8448 & 56.62524 & 71.19143 &  95.80905 & 71.61429\\\\\n",
       "\t 2019 & 02 &  42.93197 & 106.03053 & 414.5958 & 134.4847 & 119.07211 & 112.1663 & 187.5237 & 136.8632 & ... &  84.14000 & 40.22720 &  98.71474 & 78.35646 & 128.6405 & 264.0974 & 55.13210 & 71.57474 &  97.77526 & 76.77053\\\\\n",
       "\t 2019 & 03 &  45.82345 & 110.18191 & 390.7376 & 133.5600 & 123.68762 & 112.2843 & 185.4848 & 138.8838 & ... &  85.41572 & 39.90422 & 101.02953 & 79.30115 & 133.6105 & 245.9905 & 57.99476 & 62.42095 &  98.27571 & 80.39667\\\\\n",
       "\t 2019 & 04 &  50.12905 & 112.44952 & 379.6605 & 139.9086 & 122.13619 & 125.8138 & 202.6352 & 141.7995 & ... &  86.55143 & 39.16283 & 104.74095 & 85.49402 & 137.7738 & 235.7271 & 58.11381 & 54.56143 & 100.89952 & 81.58667\\\\\n",
       "\t 2019 & 05 &  47.81841 & 118.12909 & 355.7386 & 127.6164 & 118.99954 & 133.7032 & 193.5068 & 134.8050 & ... &  82.85000 & 39.22762 & 105.77273 & 84.65959 & 145.1482 & 240.5455 & 57.44000 & 52.50818 & 101.35909 & 75.48727\\\\\n",
       "\t 2019 & 06 &  48.24225 & 121.96950 & 358.6600 & 128.9510 & 121.74600 & 138.5810 & 202.6895 & 135.6780 & ... &  83.09550 & 40.81214 & 109.42050 & 80.52423 & 149.9285 & 245.5270 & 57.29950 & 52.41100 & 108.23500 & 75.14350\\\\\n",
       "\t 2019 & 07 &  51.30409 & 126.60000 & 357.4545 & 135.2345 & 124.61364 & 142.8732 & 214.1623 & 145.3359 & ... &  87.24409 & 40.54813 & 114.57909 & 83.65954 & 151.4200 & 253.7532 & 56.92318 & 55.08818 & 112.88364 & 75.88091\\\\\n",
       "\t 2019 & 08 &  51.23943 & 122.33773 & 341.0827 & 118.3159 & 118.48409 & 136.5409 & 213.1164 & 135.9682 & ... &  81.92591 & 33.77350 & 117.89409 & 80.31638 & 146.6441 & 240.7136 & 56.32000 & 51.30182 & 110.29409 & 69.42636\\\\\n",
       "\t 2019 & 09 &  54.49875 & 118.58200 & 375.4620 & 127.6480 & 121.22700 & 135.1235 & 229.5030 & 142.0685 & ... &  88.33850 & 34.61053 & 122.39900 & 85.29578 & 147.8580 & 228.2150 & 59.72100 & 54.45500 & 116.83600 & 71.54850\\\\\n",
       "\t 2019 & 10 &  58.82163 & 116.32478 & 359.1278 & 129.5178 & 115.63435 & 130.1404 & 232.9996 & 138.1861 & ... &  92.87043 & 34.55078 & 121.61565 & 86.36742 & 138.2543 & 234.8257 & 60.15348 & 54.26478 & 118.59435 & 68.40478\\\\\n",
       "\t 2019 & 11 &  65.63013 & 120.06850 & 363.7250 & 145.2240 & 119.51000 & 142.8855 & 229.1330 & 135.4300 & ... &  91.69800 & 35.66983 & 120.72950 & 93.21208 & 133.9825 & 265.3285 & 59.71650 & 60.64500 & 119.31650 & 69.68600\\\\\n",
       "\t 2019 & 12 &  69.13143 & 122.48238 & 339.1376 & 145.1448 & 118.49571 & 146.7581 & 216.7890 & 133.9876 & ... &  98.26429 & 36.74076 & 124.70524 & 93.10558 & 135.8238 & 287.4481 & 61.07143 & 58.44905 & 119.55095 & 69.45667\\\\\n",
       "\t 2020 & 01 &  77.97905 & 129.24476 & 325.8671 & 143.6243 & 115.09000 & 142.8595 & 227.2000 & 137.8557 & ... & 101.73952 & 37.30279 & 124.71190 & 96.25551 & 136.4329 & 291.3343 & 59.83286 & 54.59190 & 116.21095 & 67.82191\\\\\n",
       "\t 2020 & 02 &  77.81763 & 129.70000 & 326.0979 & 133.8768 & 106.70263 & 136.6874 & 238.2574 & 148.6463 & ... &  98.78053 & 34.54110 & 123.73105 & 93.90315 & 133.4905 & 286.2432 & 58.05579 & 51.25053 & 115.63632 & 58.64000\\\\\n",
       "\t 2020 & 03 &  65.61102 &  92.51500 & 178.7441 & 107.2591 &  76.46409 & 101.8877 & 196.0245 & 112.8136 & ... &  79.76273 & 30.59082 & 112.34182 & 65.52635 & 104.9545 & 250.2177 & 53.99136 & 46.65591 & 114.41727 & 40.22545\\\\\n",
       "\t 2020 & 04 &  68.09655 &  85.33429 & 138.6538 & 116.1119 &  83.82191 & 102.4933 & 201.6514 & 119.0771 & ... &  85.87143 & 33.95274 & 117.64857 & 62.04428 & 102.0581 & 272.0333 & 57.11048 & 43.42476 & 125.78810 & 42.29333\\\\\n",
       "\t 2020 & 05 &  77.49638 &  88.42200 & 132.8990 & 111.8400 &  91.57850 & 110.9540 & 235.7525 & 121.1750 & ... &  91.08700 & 35.77135 & 114.30350 & 59.19900 &  97.2115 & 290.8275 & 55.45500 & 40.87600 & 124.07350 & 44.49100\\\\\n",
       "\t 2020 & 06 &  86.45159 & 101.81909 & 187.0036 & 126.9995 &  93.11227 & 117.4386 & 248.6995 & 124.0691 & ... &  99.53818 & 32.35725 & 117.72364 & 65.65409 & 115.9791 & 296.4864 & 56.15955 & 42.99000 & 120.50636 & 47.61773\\\\\n",
       "\t 2020 & 07 &  95.56625 &  94.80318 & 175.8041 & 133.7850 &  87.84500 & 116.8995 & 257.7500 & 122.5345 & ... &  97.56818 & 34.35829 & 125.07364 & 61.03318 & 116.2655 & 301.5655 & 55.78727 & 40.82909 & 128.98182 & 43.41909\\\\\n",
       "\t 2020 & 08 & 117.29976 &  98.61952 & 172.7114 & 139.0629 &  87.15571 & 129.0467 & 280.0362 & 124.9795 & ... & 106.48952 & 36.32782 & 135.79952 & 61.49429 & 115.7629 & 314.4033 & 58.75381 & 40.47905 & 132.46905 & 42.34619\\\\\n",
       "\t 2020 & 09 & 115.12524 & 101.87381 & 162.5143 & 148.8948 &  77.13143 & 129.4281 & 275.4467 & 121.9629 & ... & 118.47619 & 34.52652 & 137.78429 & 60.10667 & 111.8390 & 305.8033 & 59.87333 & 35.90143 & 138.90714 & 36.75238\\\\\n",
       "\t 2020 & 10 & 116.41318 & 101.30318 & 162.8395 & 160.0150 &  71.92273 & 124.3718 & 281.1668 & 119.8986 & ... & 127.71136 & 34.95084 & 141.36591 & 59.22500 & 116.5845 & 320.7236 & 58.24227 & 36.40636 & 142.59500 & 33.67818\\\\\n",
       "\t 2020 & 11 & 116.82600 & 111.18850 & 188.9310 & 170.0970 &  82.83300 & 138.8800 & 275.6150 & 117.6650 & ... & 130.21600 & 36.08652 & 140.43950 & 66.48350 & 132.3025 & 342.9505 & 59.88100 & 39.07450 & 148.10000 & 36.85050\\\\\n",
       "\t 2020 & 12 & 127.29045 & 119.80409 & 224.6050 & 178.6795 &  88.30909 & 166.9273 & 267.9445 & 124.8118 & ... & 139.34045 & 38.94864 & 137.54091 & 71.55773 & 136.7305 & 342.6273 & 60.10091 & 40.74727 & 146.57682 & 41.89273\\\\\n",
       "\t 2021 & 01 & 133.03684 & 121.58421 & 205.8374 & 190.5442 &  90.78368 & 173.8458 & 273.6616 & 125.8447 & ... & 140.37632 & 36.79842 & 134.52000 & 68.81579 & 141.1905 & 350.4316 & 57.29158 & 47.30421 & 145.75842 & 46.54211\\\\\n",
       "\\end{tabular}\n"
      ],
      "text/markdown": [
       "\n",
       "A grouped_df: 373 × 28\n",
       "\n",
       "| year &lt;chr&gt; | month &lt;chr&gt; | AAPL &lt;dbl&gt; | AXP &lt;dbl&gt; | BA &lt;dbl&gt; | CAT &lt;dbl&gt; | CVX &lt;dbl&gt; | DIS &lt;dbl&gt; | HD &lt;dbl&gt; | IBM &lt;dbl&gt; | ... ... | NKE &lt;dbl&gt; | PFE &lt;dbl&gt; | PG &lt;dbl&gt; | RTX &lt;dbl&gt; | TRV &lt;dbl&gt; | UNH &lt;dbl&gt; | VZ &lt;dbl&gt; | WBA &lt;dbl&gt; | WMT &lt;dbl&gt; | XOM &lt;dbl&gt; |\n",
       "|---|---|---|---|---|---|---|---|---|---|---|---|---|---|---|---|---|---|---|---|---|\n",
       "| 1990 | 01 | 0.3110652 | 8.262480 | 20.07143 | 7.091518 | 16.43750 |  9.035087 | 1.816285 | 24.60863 | ... | 0.8432851 | 2.753117 |  8.401786 | 4.122464 | 14.54315 | 0.3227308 | 22.47504 | 2.698289 |  5.520833 | 11.97768 |\n",
       "| 1990 | 02 | 0.3026903 | 7.467038 | 20.73684 | 7.070724 | 17.05757 |  8.842264 | 1.835932 | 25.60197 | ... | 0.8282280 | 2.569316 |  8.112664 | 3.955028 | 14.60526 | 0.3096218 | 20.54095 | 2.603207 |  5.300987 | 11.91118 |\n",
       "| 1990 | 03 | 0.3447646 | 7.092516 | 23.00947 | 7.672585 | 17.01847 |  9.277864 | 2.178732 | 26.55540 | ... | 0.9767402 | 2.374163 |  8.242188 | 4.332431 | 15.13778 | 0.2988283 | 20.69720 | 2.654830 |  5.794744 | 11.62358 |\n",
       "| 1990 | 04 | 0.3646765 | 7.027706 | 23.83542 | 7.586719 | 16.58594 |  9.251520 | 2.289197 | 26.98750 | ... | 1.0608400 | 2.291865 |  8.706250 | 4.433311 | 14.67500 | 0.3179689 | 21.36735 | 2.660938 |  6.132031 | 11.46250 |\n",
       "| 1990 | 05 | 0.3666296 | 7.377797 | 25.81818 | 8.208097 | 17.16477 |  9.475912 | 2.674523 | 28.65483 | ... | 1.1709873 | 2.380452 |  9.542614 | 4.508088 | 14.51420 | 0.4185015 | 22.94806 | 2.736506 |  6.711648 | 11.76989 |\n",
       "| 1990 | 06 | 0.3612352 | 7.919168 | 29.02679 | 7.871280 | 17.55208 | 10.559856 | 2.940623 | 29.76935 | ... | 1.2017301 | 2.547693 | 10.386161 | 4.639879 | 14.92411 | 0.4877234 | 22.85511 | 2.921875 |  7.646577 | 11.96726 |\n",
       "| 1990 | 07 | 0.3916880 | 7.899244 | 29.67560 | 6.504464 | 18.62500 | 10.476669 | 2.904321 | 29.31548 | ... | 1.3598400 | 2.768413 | 11.034970 | 4.641752 | 14.86607 | 0.5647323 | 21.31877 | 3.180432 |  8.249256 | 12.17113 |\n",
       "| 1990 | 08 | 0.3427311 | 6.577039 | 25.04620 | 5.670516 | 19.37092 |  8.609536 | 2.515298 | 25.84239 | ... | 1.1296706 | 2.785283 |  9.805027 | 4.031624 | 14.21875 | 0.5337976 | 20.17367 | 2.882133 |  7.228261 | 12.87908 |\n",
       "| 1990 | 09 | 0.2944665 | 5.873009 | 22.43421 | 5.320724 | 19.17270 |  7.801679 | 2.415205 | 26.39967 | ... | 1.0705183 | 2.805988 |  9.396382 | 3.704022 | 13.24342 | 0.5516037 | 20.00401 | 2.829770 |  6.723684 | 12.67270 |\n",
       "| 1990 | 10 | 0.2583462 | 5.057323 | 22.66848 | 5.144701 | 17.61277 |  7.617227 | 2.204509 | 26.39946 | ... | 0.9076937 | 2.946848 |  9.732337 | 3.607940 | 12.63043 | 0.5022079 | 22.25091 | 2.879756 |  6.730978 | 12.24321 |\n",
       "| 1990 | 11 | 0.3152636 | 5.249303 | 22.46726 | 5.178571 | 17.24702 |  7.835726 | 2.470459 | 27.86458 | ... | 1.0161832 | 3.047489 | 10.128720 | 3.513272 | 14.75298 | 0.5870537 | 23.80261 | 3.092634 |  7.206845 | 12.52530 |\n",
       "| 1990 | 12 | 0.3718751 | 5.518206 | 22.76562 | 5.707031 | 17.65625 |  8.421730 | 2.837963 | 28.30313 | ... | 1.1875002 | 3.179356 | 10.717969 | 3.745968 | 15.87031 | 0.6941409 | 24.81569 | 3.184375 |  7.728125 | 12.65625 |\n",
       "| 1991 | 01 | 0.4377030 | 5.238923 | 23.22443 | 5.738636 | 18.00568 |  8.201683 | 2.931397 | 28.85369 | ... | 1.2647374 | 3.193327 | 10.073153 | 3.589128 | 15.07102 | 0.7402345 | 22.38087 | 3.268466 |  7.649148 | 12.76989 |\n",
       "| 1991 | 02 | 0.5220277 | 6.396447 | 24.54605 | 6.305099 | 18.13651 |  9.786037 | 3.500975 | 33.05099 | ... | 1.5039064 | 3.933688 | 10.318257 | 3.795626 | 16.84211 | 0.9564146 | 22.34699 | 3.873355 |  9.004934 | 13.35691 |\n",
       "| 1991 | 03 | 0.5818639 | 7.011613 | 24.18750 | 6.557031 | 19.15156 | 10.071035 | 3.771759 | 30.83125 | ... | 1.5160157 | 4.160490 | 10.554688 | 3.859051 | 17.01875 | 1.0839844 | 21.95472 | 4.060156 |  9.278125 | 14.17969 |\n",
       "| 1991 | 04 | 0.5783280 | 7.151035 | 23.61364 | 6.017756 | 19.31392 |  9.677229 | 4.215067 | 27.42045 | ... | 1.4327060 | 4.441503 | 10.695312 | 3.687908 | 17.85511 | 1.2867544 | 22.33488 | 4.223011 | 10.454545 | 14.74716 |\n",
       "| 1991 | 05 | 0.4322240 | 6.280563 | 23.38636 | 6.190341 | 18.79261 |  9.853790 | 4.490741 | 26.05682 | ... | 1.3370030 | 4.537189 | 10.363636 | 3.518955 | 16.76705 | 1.4124646 | 21.19285 | 3.952415 | 10.288352 | 14.60227 |\n",
       "| 1991 | 06 | 0.3912389 | 6.178009 | 23.81563 | 6.375000 | 17.85469 |  9.435975 | 4.924768 | 25.22500 | ... | 1.2011719 | 4.486381 | 10.194531 | 3.591587 | 15.64844 | 1.4451173 | 20.54390 | 4.074219 | 10.635938 | 14.52969 |\n",
       "| 1991 | 07 | 0.4037643 | 6.055265 | 22.43466 | 6.080256 | 17.84375 |  9.846316 | 5.255050 | 24.88778 | ... | 1.2888851 | 4.632425 |  9.962358 | 3.649916 | 15.78835 | 1.5777700 | 21.35125 | 4.159091 | 11.440341 | 14.70455 |\n",
       "| 1991 | 08 | 0.4643364 | 6.770661 | 23.61932 | 5.989347 | 17.70028 |  9.765042 | 5.662247 | 24.36364 | ... | 1.4472659 | 5.105011 | 10.262784 | 3.669135 | 16.12926 | 1.5639207 | 21.55053 | 4.238636 | 12.269886 | 14.58097 |\n",
       "| 1991 | 09 | 0.4487165 | 6.646308 | 25.14375 | 5.730469 | 18.02812 |  9.347601 | 5.844445 | 25.65469 | ... | 1.5849610 | 5.143600 | 10.442969 | 3.618136 | 15.99219 | 1.5330079 | 21.50787 | 4.134375 | 12.321875 | 14.72969 |\n",
       "| 1991 | 10 | 0.4544351 | 5.412763 | 24.60870 | 5.817255 | 18.81522 |  9.555825 | 6.079106 | 24.90489 | ... | 1.6511550 | 5.317476 | 10.359375 | 3.560484 | 15.04076 | 1.7635871 | 20.19811 | 3.972826 | 11.824728 | 15.13995 |\n",
       "| 1991 | 11 | 0.4590400 | 4.872886 | 23.46875 | 5.573437 | 17.66406 |  9.082479 | 6.561111 | 24.28125 | ... | 1.8316408 | 5.434654 | 10.282813 | 3.816768 | 16.64062 | 1.9193360 | 20.59730 | 4.116406 | 12.042188 | 14.85000 |\n",
       "| 1991 | 12 | 0.4587585 | 4.921318 | 21.94048 | 5.125744 | 16.74405 |  8.908839 | 7.159391 | 22.03869 | ... | 1.9802829 | 5.858257 | 10.703125 | 3.824658 | 17.01042 | 2.1088172 | 21.10732 | 4.406994 | 13.296131 | 14.49851 |\n",
       "| 1992 | 01 | 0.5589996 | 5.628075 | 25.24148 | 5.674716 | 16.76989 | 10.656255 | 7.375000 | 23.21449 | ... | 2.2817829 | 6.234816 | 11.951705 | 4.133532 | 18.10795 | 2.5820314 | 21.02678 | 4.786932 | 14.143466 | 14.88068 |\n",
       "| 1992 | 02 | 0.5828244 | 5.529132 | 23.73355 | 6.226974 | 15.70888 | 12.071645 | 7.053363 | 22.44737 | ... | 2.2931744 | 5.764381 | 12.618421 | 4.004712 | 18.07895 | 2.6321958 | 20.04839 | 4.652961 | 13.424342 | 14.50822 |\n",
       "| 1992 | 03 | 0.5652901 | 5.677817 | 22.50000 | 6.186790 | 15.73295 | 12.413926 | 7.118055 | 21.63636 | ... | 2.1803979 | 5.647677 | 12.504261 | 4.119229 | 17.65483 | 2.4925427 | 18.97520 | 4.481534 | 13.261364 | 13.90199 |\n",
       "| 1992 | 04 | 0.5141902 | 5.807186 | 22.59524 | 6.566964 | 16.59524 | 12.490284 | 7.087963 | 21.71131 | ... | 2.0678945 | 5.540590 | 12.640625 | 4.220328 | 17.34226 | 2.3709079 | 19.03031 | 4.305804 | 13.171131 | 14.46875 |\n",
       "| 1992 | 05 | 0.5406809 | 5.815922 | 21.87187 | 7.141406 | 17.20781 | 12.475628 | 7.280555 | 23.02188 | ... | 1.9216799 | 5.692600 | 12.924219 | 4.180105 | 17.74063 | 2.4734375 | 19.69517 | 4.085938 | 13.103125 | 15.00781 |\n",
       "| 1992 | 06 | 0.4498782 | 6.069894 | 21.35227 | 7.060369 | 17.61506 | 12.039784 | 7.530303 | 23.36506 | ... | 1.8007814 | 5.595567 | 12.170455 | 4.039669 | 18.50710 | 2.5775925 | 19.79277 | 4.014205 | 13.501420 | 15.53835 |\n",
       "| ... | ... | ... | ... | ... | ... | ... | ... | ... | ... | <!----> | ... | ... | ... | ... | ... | ... | ... | ... | ... | ... |\n",
       "| 2018 | 08 |  53.33652 | 103.48870 | 346.8278 | 138.5100 | 120.92478 | 112.9287 | 197.7900 | 145.5252 | ... |  80.95087 | 39.21417 |  82.70130 | 84.15465 | 130.1017 | 261.9235 | 53.58435 | 68.25435 |  92.98130 | 79.60913 |\n",
       "| 2018 | 09 |  55.51842 | 108.36263 | 358.5921 | 147.7458 | 118.68316 | 111.4163 | 208.8368 | 148.4995 | ... |  83.20000 | 40.78448 |  83.43579 | 86.30221 | 130.7032 | 265.1758 | 54.01421 | 70.70210 |  95.43526 | 83.59000 |\n",
       "| 2018 | 10 |  55.21141 | 104.51696 | 366.3756 | 136.6257 | 118.16913 | 115.2522 | 187.9335 | 136.8957 | ... |  76.61217 | 41.70531 |  84.16652 | 82.44179 | 126.0604 | 264.4022 | 55.13130 | 75.14783 |  96.52304 | 82.03391 |\n",
       "| 2018 | 11 |  47.80893 | 107.90714 | 343.6033 | 127.4086 | 117.17905 | 115.5005 | 177.8933 | 120.6667 | ... |  74.78905 | 41.60658 |  92.27714 | 80.13426 | 128.2705 | 268.9914 | 58.79048 | 81.82048 |  99.58524 | 79.26238 |\n",
       "| 2018 | 12 |  41.06658 | 101.14895 | 322.2274 | 125.1900 | 111.55053 | 109.8268 | 170.4763 | 117.1868 | ... |  72.66579 | 41.17298 |  92.54053 | 71.80153 | 120.6332 | 258.5379 | 56.42789 | 75.72053 |  92.00737 | 73.23684 |\n",
       "| 2019 | 01 |  38.54155 |  99.13143 | 352.3071 | 130.5943 | 112.24095 | 110.8986 | 177.6886 | 124.5914 | ... |  78.10429 | 40.03072 |  92.41429 | 70.52594 | 121.6443 | 255.8448 | 56.62524 | 71.19143 |  95.80905 | 71.61429 |\n",
       "| 2019 | 02 |  42.93197 | 106.03053 | 414.5958 | 134.4847 | 119.07211 | 112.1663 | 187.5237 | 136.8632 | ... |  84.14000 | 40.22720 |  98.71474 | 78.35646 | 128.6405 | 264.0974 | 55.13210 | 71.57474 |  97.77526 | 76.77053 |\n",
       "| 2019 | 03 |  45.82345 | 110.18191 | 390.7376 | 133.5600 | 123.68762 | 112.2843 | 185.4848 | 138.8838 | ... |  85.41572 | 39.90422 | 101.02953 | 79.30115 | 133.6105 | 245.9905 | 57.99476 | 62.42095 |  98.27571 | 80.39667 |\n",
       "| 2019 | 04 |  50.12905 | 112.44952 | 379.6605 | 139.9086 | 122.13619 | 125.8138 | 202.6352 | 141.7995 | ... |  86.55143 | 39.16283 | 104.74095 | 85.49402 | 137.7738 | 235.7271 | 58.11381 | 54.56143 | 100.89952 | 81.58667 |\n",
       "| 2019 | 05 |  47.81841 | 118.12909 | 355.7386 | 127.6164 | 118.99954 | 133.7032 | 193.5068 | 134.8050 | ... |  82.85000 | 39.22762 | 105.77273 | 84.65959 | 145.1482 | 240.5455 | 57.44000 | 52.50818 | 101.35909 | 75.48727 |\n",
       "| 2019 | 06 |  48.24225 | 121.96950 | 358.6600 | 128.9510 | 121.74600 | 138.5810 | 202.6895 | 135.6780 | ... |  83.09550 | 40.81214 | 109.42050 | 80.52423 | 149.9285 | 245.5270 | 57.29950 | 52.41100 | 108.23500 | 75.14350 |\n",
       "| 2019 | 07 |  51.30409 | 126.60000 | 357.4545 | 135.2345 | 124.61364 | 142.8732 | 214.1623 | 145.3359 | ... |  87.24409 | 40.54813 | 114.57909 | 83.65954 | 151.4200 | 253.7532 | 56.92318 | 55.08818 | 112.88364 | 75.88091 |\n",
       "| 2019 | 08 |  51.23943 | 122.33773 | 341.0827 | 118.3159 | 118.48409 | 136.5409 | 213.1164 | 135.9682 | ... |  81.92591 | 33.77350 | 117.89409 | 80.31638 | 146.6441 | 240.7136 | 56.32000 | 51.30182 | 110.29409 | 69.42636 |\n",
       "| 2019 | 09 |  54.49875 | 118.58200 | 375.4620 | 127.6480 | 121.22700 | 135.1235 | 229.5030 | 142.0685 | ... |  88.33850 | 34.61053 | 122.39900 | 85.29578 | 147.8580 | 228.2150 | 59.72100 | 54.45500 | 116.83600 | 71.54850 |\n",
       "| 2019 | 10 |  58.82163 | 116.32478 | 359.1278 | 129.5178 | 115.63435 | 130.1404 | 232.9996 | 138.1861 | ... |  92.87043 | 34.55078 | 121.61565 | 86.36742 | 138.2543 | 234.8257 | 60.15348 | 54.26478 | 118.59435 | 68.40478 |\n",
       "| 2019 | 11 |  65.63013 | 120.06850 | 363.7250 | 145.2240 | 119.51000 | 142.8855 | 229.1330 | 135.4300 | ... |  91.69800 | 35.66983 | 120.72950 | 93.21208 | 133.9825 | 265.3285 | 59.71650 | 60.64500 | 119.31650 | 69.68600 |\n",
       "| 2019 | 12 |  69.13143 | 122.48238 | 339.1376 | 145.1448 | 118.49571 | 146.7581 | 216.7890 | 133.9876 | ... |  98.26429 | 36.74076 | 124.70524 | 93.10558 | 135.8238 | 287.4481 | 61.07143 | 58.44905 | 119.55095 | 69.45667 |\n",
       "| 2020 | 01 |  77.97905 | 129.24476 | 325.8671 | 143.6243 | 115.09000 | 142.8595 | 227.2000 | 137.8557 | ... | 101.73952 | 37.30279 | 124.71190 | 96.25551 | 136.4329 | 291.3343 | 59.83286 | 54.59190 | 116.21095 | 67.82191 |\n",
       "| 2020 | 02 |  77.81763 | 129.70000 | 326.0979 | 133.8768 | 106.70263 | 136.6874 | 238.2574 | 148.6463 | ... |  98.78053 | 34.54110 | 123.73105 | 93.90315 | 133.4905 | 286.2432 | 58.05579 | 51.25053 | 115.63632 | 58.64000 |\n",
       "| 2020 | 03 |  65.61102 |  92.51500 | 178.7441 | 107.2591 |  76.46409 | 101.8877 | 196.0245 | 112.8136 | ... |  79.76273 | 30.59082 | 112.34182 | 65.52635 | 104.9545 | 250.2177 | 53.99136 | 46.65591 | 114.41727 | 40.22545 |\n",
       "| 2020 | 04 |  68.09655 |  85.33429 | 138.6538 | 116.1119 |  83.82191 | 102.4933 | 201.6514 | 119.0771 | ... |  85.87143 | 33.95274 | 117.64857 | 62.04428 | 102.0581 | 272.0333 | 57.11048 | 43.42476 | 125.78810 | 42.29333 |\n",
       "| 2020 | 05 |  77.49638 |  88.42200 | 132.8990 | 111.8400 |  91.57850 | 110.9540 | 235.7525 | 121.1750 | ... |  91.08700 | 35.77135 | 114.30350 | 59.19900 |  97.2115 | 290.8275 | 55.45500 | 40.87600 | 124.07350 | 44.49100 |\n",
       "| 2020 | 06 |  86.45159 | 101.81909 | 187.0036 | 126.9995 |  93.11227 | 117.4386 | 248.6995 | 124.0691 | ... |  99.53818 | 32.35725 | 117.72364 | 65.65409 | 115.9791 | 296.4864 | 56.15955 | 42.99000 | 120.50636 | 47.61773 |\n",
       "| 2020 | 07 |  95.56625 |  94.80318 | 175.8041 | 133.7850 |  87.84500 | 116.8995 | 257.7500 | 122.5345 | ... |  97.56818 | 34.35829 | 125.07364 | 61.03318 | 116.2655 | 301.5655 | 55.78727 | 40.82909 | 128.98182 | 43.41909 |\n",
       "| 2020 | 08 | 117.29976 |  98.61952 | 172.7114 | 139.0629 |  87.15571 | 129.0467 | 280.0362 | 124.9795 | ... | 106.48952 | 36.32782 | 135.79952 | 61.49429 | 115.7629 | 314.4033 | 58.75381 | 40.47905 | 132.46905 | 42.34619 |\n",
       "| 2020 | 09 | 115.12524 | 101.87381 | 162.5143 | 148.8948 |  77.13143 | 129.4281 | 275.4467 | 121.9629 | ... | 118.47619 | 34.52652 | 137.78429 | 60.10667 | 111.8390 | 305.8033 | 59.87333 | 35.90143 | 138.90714 | 36.75238 |\n",
       "| 2020 | 10 | 116.41318 | 101.30318 | 162.8395 | 160.0150 |  71.92273 | 124.3718 | 281.1668 | 119.8986 | ... | 127.71136 | 34.95084 | 141.36591 | 59.22500 | 116.5845 | 320.7236 | 58.24227 | 36.40636 | 142.59500 | 33.67818 |\n",
       "| 2020 | 11 | 116.82600 | 111.18850 | 188.9310 | 170.0970 |  82.83300 | 138.8800 | 275.6150 | 117.6650 | ... | 130.21600 | 36.08652 | 140.43950 | 66.48350 | 132.3025 | 342.9505 | 59.88100 | 39.07450 | 148.10000 | 36.85050 |\n",
       "| 2020 | 12 | 127.29045 | 119.80409 | 224.6050 | 178.6795 |  88.30909 | 166.9273 | 267.9445 | 124.8118 | ... | 139.34045 | 38.94864 | 137.54091 | 71.55773 | 136.7305 | 342.6273 | 60.10091 | 40.74727 | 146.57682 | 41.89273 |\n",
       "| 2021 | 01 | 133.03684 | 121.58421 | 205.8374 | 190.5442 |  90.78368 | 173.8458 | 273.6616 | 125.8447 | ... | 140.37632 | 36.79842 | 134.52000 | 68.81579 | 141.1905 | 350.4316 | 57.29158 | 47.30421 | 145.75842 | 46.54211 |\n",
       "\n"
      ],
      "text/plain": [
       "    year month AAPL      AXP       BA       CAT      CVX       DIS      \n",
       "1   1990 01    0.3110652 8.262480  20.07143 7.091518 16.43750   9.035087\n",
       "2   1990 02    0.3026903 7.467038  20.73684 7.070724 17.05757   8.842264\n",
       "3   1990 03    0.3447646 7.092516  23.00947 7.672585 17.01847   9.277864\n",
       "4   1990 04    0.3646765 7.027706  23.83542 7.586719 16.58594   9.251520\n",
       "5   1990 05    0.3666296 7.377797  25.81818 8.208097 17.16477   9.475912\n",
       "6   1990 06    0.3612352 7.919168  29.02679 7.871280 17.55208  10.559856\n",
       "7   1990 07    0.3916880 7.899244  29.67560 6.504464 18.62500  10.476669\n",
       "8   1990 08    0.3427311 6.577039  25.04620 5.670516 19.37092   8.609536\n",
       "9   1990 09    0.2944665 5.873009  22.43421 5.320724 19.17270   7.801679\n",
       "10  1990 10    0.2583462 5.057323  22.66848 5.144701 17.61277   7.617227\n",
       "11  1990 11    0.3152636 5.249303  22.46726 5.178571 17.24702   7.835726\n",
       "12  1990 12    0.3718751 5.518206  22.76562 5.707031 17.65625   8.421730\n",
       "13  1991 01    0.4377030 5.238923  23.22443 5.738636 18.00568   8.201683\n",
       "14  1991 02    0.5220277 6.396447  24.54605 6.305099 18.13651   9.786037\n",
       "15  1991 03    0.5818639 7.011613  24.18750 6.557031 19.15156  10.071035\n",
       "16  1991 04    0.5783280 7.151035  23.61364 6.017756 19.31392   9.677229\n",
       "17  1991 05    0.4322240 6.280563  23.38636 6.190341 18.79261   9.853790\n",
       "18  1991 06    0.3912389 6.178009  23.81563 6.375000 17.85469   9.435975\n",
       "19  1991 07    0.4037643 6.055265  22.43466 6.080256 17.84375   9.846316\n",
       "20  1991 08    0.4643364 6.770661  23.61932 5.989347 17.70028   9.765042\n",
       "21  1991 09    0.4487165 6.646308  25.14375 5.730469 18.02812   9.347601\n",
       "22  1991 10    0.4544351 5.412763  24.60870 5.817255 18.81522   9.555825\n",
       "23  1991 11    0.4590400 4.872886  23.46875 5.573437 17.66406   9.082479\n",
       "24  1991 12    0.4587585 4.921318  21.94048 5.125744 16.74405   8.908839\n",
       "25  1992 01    0.5589996 5.628075  25.24148 5.674716 16.76989  10.656255\n",
       "26  1992 02    0.5828244 5.529132  23.73355 6.226974 15.70888  12.071645\n",
       "27  1992 03    0.5652901 5.677817  22.50000 6.186790 15.73295  12.413926\n",
       "28  1992 04    0.5141902 5.807186  22.59524 6.566964 16.59524  12.490284\n",
       "29  1992 05    0.5406809 5.815922  21.87187 7.141406 17.20781  12.475628\n",
       "30  1992 06    0.4498782 6.069894  21.35227 7.060369 17.61506  12.039784\n",
       "... ...  ...   ...       ...       ...      ...      ...       ...      \n",
       "344 2018 08     53.33652 103.48870 346.8278 138.5100 120.92478 112.9287 \n",
       "345 2018 09     55.51842 108.36263 358.5921 147.7458 118.68316 111.4163 \n",
       "346 2018 10     55.21141 104.51696 366.3756 136.6257 118.16913 115.2522 \n",
       "347 2018 11     47.80893 107.90714 343.6033 127.4086 117.17905 115.5005 \n",
       "348 2018 12     41.06658 101.14895 322.2274 125.1900 111.55053 109.8268 \n",
       "349 2019 01     38.54155  99.13143 352.3071 130.5943 112.24095 110.8986 \n",
       "350 2019 02     42.93197 106.03053 414.5958 134.4847 119.07211 112.1663 \n",
       "351 2019 03     45.82345 110.18191 390.7376 133.5600 123.68762 112.2843 \n",
       "352 2019 04     50.12905 112.44952 379.6605 139.9086 122.13619 125.8138 \n",
       "353 2019 05     47.81841 118.12909 355.7386 127.6164 118.99954 133.7032 \n",
       "354 2019 06     48.24225 121.96950 358.6600 128.9510 121.74600 138.5810 \n",
       "355 2019 07     51.30409 126.60000 357.4545 135.2345 124.61364 142.8732 \n",
       "356 2019 08     51.23943 122.33773 341.0827 118.3159 118.48409 136.5409 \n",
       "357 2019 09     54.49875 118.58200 375.4620 127.6480 121.22700 135.1235 \n",
       "358 2019 10     58.82163 116.32478 359.1278 129.5178 115.63435 130.1404 \n",
       "359 2019 11     65.63013 120.06850 363.7250 145.2240 119.51000 142.8855 \n",
       "360 2019 12     69.13143 122.48238 339.1376 145.1448 118.49571 146.7581 \n",
       "361 2020 01     77.97905 129.24476 325.8671 143.6243 115.09000 142.8595 \n",
       "362 2020 02     77.81763 129.70000 326.0979 133.8768 106.70263 136.6874 \n",
       "363 2020 03     65.61102  92.51500 178.7441 107.2591  76.46409 101.8877 \n",
       "364 2020 04     68.09655  85.33429 138.6538 116.1119  83.82191 102.4933 \n",
       "365 2020 05     77.49638  88.42200 132.8990 111.8400  91.57850 110.9540 \n",
       "366 2020 06     86.45159 101.81909 187.0036 126.9995  93.11227 117.4386 \n",
       "367 2020 07     95.56625  94.80318 175.8041 133.7850  87.84500 116.8995 \n",
       "368 2020 08    117.29976  98.61952 172.7114 139.0629  87.15571 129.0467 \n",
       "369 2020 09    115.12524 101.87381 162.5143 148.8948  77.13143 129.4281 \n",
       "370 2020 10    116.41318 101.30318 162.8395 160.0150  71.92273 124.3718 \n",
       "371 2020 11    116.82600 111.18850 188.9310 170.0970  82.83300 138.8800 \n",
       "372 2020 12    127.29045 119.80409 224.6050 178.6795  88.30909 166.9273 \n",
       "373 2021 01    133.03684 121.58421 205.8374 190.5442  90.78368 173.8458 \n",
       "    HD       IBM      ... NKE       PFE      PG        RTX      TRV     \n",
       "1   1.816285 24.60863 ... 0.8432851 2.753117  8.401786 4.122464 14.54315\n",
       "2   1.835932 25.60197 ... 0.8282280 2.569316  8.112664 3.955028 14.60526\n",
       "3   2.178732 26.55540 ... 0.9767402 2.374163  8.242188 4.332431 15.13778\n",
       "4   2.289197 26.98750 ... 1.0608400 2.291865  8.706250 4.433311 14.67500\n",
       "5   2.674523 28.65483 ... 1.1709873 2.380452  9.542614 4.508088 14.51420\n",
       "6   2.940623 29.76935 ... 1.2017301 2.547693 10.386161 4.639879 14.92411\n",
       "7   2.904321 29.31548 ... 1.3598400 2.768413 11.034970 4.641752 14.86607\n",
       "8   2.515298 25.84239 ... 1.1296706 2.785283  9.805027 4.031624 14.21875\n",
       "9   2.415205 26.39967 ... 1.0705183 2.805988  9.396382 3.704022 13.24342\n",
       "10  2.204509 26.39946 ... 0.9076937 2.946848  9.732337 3.607940 12.63043\n",
       "11  2.470459 27.86458 ... 1.0161832 3.047489 10.128720 3.513272 14.75298\n",
       "12  2.837963 28.30313 ... 1.1875002 3.179356 10.717969 3.745968 15.87031\n",
       "13  2.931397 28.85369 ... 1.2647374 3.193327 10.073153 3.589128 15.07102\n",
       "14  3.500975 33.05099 ... 1.5039064 3.933688 10.318257 3.795626 16.84211\n",
       "15  3.771759 30.83125 ... 1.5160157 4.160490 10.554688 3.859051 17.01875\n",
       "16  4.215067 27.42045 ... 1.4327060 4.441503 10.695312 3.687908 17.85511\n",
       "17  4.490741 26.05682 ... 1.3370030 4.537189 10.363636 3.518955 16.76705\n",
       "18  4.924768 25.22500 ... 1.2011719 4.486381 10.194531 3.591587 15.64844\n",
       "19  5.255050 24.88778 ... 1.2888851 4.632425  9.962358 3.649916 15.78835\n",
       "20  5.662247 24.36364 ... 1.4472659 5.105011 10.262784 3.669135 16.12926\n",
       "21  5.844445 25.65469 ... 1.5849610 5.143600 10.442969 3.618136 15.99219\n",
       "22  6.079106 24.90489 ... 1.6511550 5.317476 10.359375 3.560484 15.04076\n",
       "23  6.561111 24.28125 ... 1.8316408 5.434654 10.282813 3.816768 16.64062\n",
       "24  7.159391 22.03869 ... 1.9802829 5.858257 10.703125 3.824658 17.01042\n",
       "25  7.375000 23.21449 ... 2.2817829 6.234816 11.951705 4.133532 18.10795\n",
       "26  7.053363 22.44737 ... 2.2931744 5.764381 12.618421 4.004712 18.07895\n",
       "27  7.118055 21.63636 ... 2.1803979 5.647677 12.504261 4.119229 17.65483\n",
       "28  7.087963 21.71131 ... 2.0678945 5.540590 12.640625 4.220328 17.34226\n",
       "29  7.280555 23.02188 ... 1.9216799 5.692600 12.924219 4.180105 17.74063\n",
       "30  7.530303 23.36506 ... 1.8007814 5.595567 12.170455 4.039669 18.50710\n",
       "... ...      ...          ...       ...      ...       ...      ...     \n",
       "344 197.7900 145.5252 ...  80.95087 39.21417  82.70130 84.15465 130.1017\n",
       "345 208.8368 148.4995 ...  83.20000 40.78448  83.43579 86.30221 130.7032\n",
       "346 187.9335 136.8957 ...  76.61217 41.70531  84.16652 82.44179 126.0604\n",
       "347 177.8933 120.6667 ...  74.78905 41.60658  92.27714 80.13426 128.2705\n",
       "348 170.4763 117.1868 ...  72.66579 41.17298  92.54053 71.80153 120.6332\n",
       "349 177.6886 124.5914 ...  78.10429 40.03072  92.41429 70.52594 121.6443\n",
       "350 187.5237 136.8632 ...  84.14000 40.22720  98.71474 78.35646 128.6405\n",
       "351 185.4848 138.8838 ...  85.41572 39.90422 101.02953 79.30115 133.6105\n",
       "352 202.6352 141.7995 ...  86.55143 39.16283 104.74095 85.49402 137.7738\n",
       "353 193.5068 134.8050 ...  82.85000 39.22762 105.77273 84.65959 145.1482\n",
       "354 202.6895 135.6780 ...  83.09550 40.81214 109.42050 80.52423 149.9285\n",
       "355 214.1623 145.3359 ...  87.24409 40.54813 114.57909 83.65954 151.4200\n",
       "356 213.1164 135.9682 ...  81.92591 33.77350 117.89409 80.31638 146.6441\n",
       "357 229.5030 142.0685 ...  88.33850 34.61053 122.39900 85.29578 147.8580\n",
       "358 232.9996 138.1861 ...  92.87043 34.55078 121.61565 86.36742 138.2543\n",
       "359 229.1330 135.4300 ...  91.69800 35.66983 120.72950 93.21208 133.9825\n",
       "360 216.7890 133.9876 ...  98.26429 36.74076 124.70524 93.10558 135.8238\n",
       "361 227.2000 137.8557 ... 101.73952 37.30279 124.71190 96.25551 136.4329\n",
       "362 238.2574 148.6463 ...  98.78053 34.54110 123.73105 93.90315 133.4905\n",
       "363 196.0245 112.8136 ...  79.76273 30.59082 112.34182 65.52635 104.9545\n",
       "364 201.6514 119.0771 ...  85.87143 33.95274 117.64857 62.04428 102.0581\n",
       "365 235.7525 121.1750 ...  91.08700 35.77135 114.30350 59.19900  97.2115\n",
       "366 248.6995 124.0691 ...  99.53818 32.35725 117.72364 65.65409 115.9791\n",
       "367 257.7500 122.5345 ...  97.56818 34.35829 125.07364 61.03318 116.2655\n",
       "368 280.0362 124.9795 ... 106.48952 36.32782 135.79952 61.49429 115.7629\n",
       "369 275.4467 121.9629 ... 118.47619 34.52652 137.78429 60.10667 111.8390\n",
       "370 281.1668 119.8986 ... 127.71136 34.95084 141.36591 59.22500 116.5845\n",
       "371 275.6150 117.6650 ... 130.21600 36.08652 140.43950 66.48350 132.3025\n",
       "372 267.9445 124.8118 ... 139.34045 38.94864 137.54091 71.55773 136.7305\n",
       "373 273.6616 125.8447 ... 140.37632 36.79842 134.52000 68.81579 141.1905\n",
       "    UNH       VZ       WBA      WMT       XOM     \n",
       "1   0.3227308 22.47504 2.698289  5.520833 11.97768\n",
       "2   0.3096218 20.54095 2.603207  5.300987 11.91118\n",
       "3   0.2988283 20.69720 2.654830  5.794744 11.62358\n",
       "4   0.3179689 21.36735 2.660938  6.132031 11.46250\n",
       "5   0.4185015 22.94806 2.736506  6.711648 11.76989\n",
       "6   0.4877234 22.85511 2.921875  7.646577 11.96726\n",
       "7   0.5647323 21.31877 3.180432  8.249256 12.17113\n",
       "8   0.5337976 20.17367 2.882133  7.228261 12.87908\n",
       "9   0.5516037 20.00401 2.829770  6.723684 12.67270\n",
       "10  0.5022079 22.25091 2.879756  6.730978 12.24321\n",
       "11  0.5870537 23.80261 3.092634  7.206845 12.52530\n",
       "12  0.6941409 24.81569 3.184375  7.728125 12.65625\n",
       "13  0.7402345 22.38087 3.268466  7.649148 12.76989\n",
       "14  0.9564146 22.34699 3.873355  9.004934 13.35691\n",
       "15  1.0839844 21.95472 4.060156  9.278125 14.17969\n",
       "16  1.2867544 22.33488 4.223011 10.454545 14.74716\n",
       "17  1.4124646 21.19285 3.952415 10.288352 14.60227\n",
       "18  1.4451173 20.54390 4.074219 10.635938 14.52969\n",
       "19  1.5777700 21.35125 4.159091 11.440341 14.70455\n",
       "20  1.5639207 21.55053 4.238636 12.269886 14.58097\n",
       "21  1.5330079 21.50787 4.134375 12.321875 14.72969\n",
       "22  1.7635871 20.19811 3.972826 11.824728 15.13995\n",
       "23  1.9193360 20.59730 4.116406 12.042188 14.85000\n",
       "24  2.1088172 21.10732 4.406994 13.296131 14.49851\n",
       "25  2.5820314 21.02678 4.786932 14.143466 14.88068\n",
       "26  2.6321958 20.04839 4.652961 13.424342 14.50822\n",
       "27  2.4925427 18.97520 4.481534 13.261364 13.90199\n",
       "28  2.3709079 19.03031 4.305804 13.171131 14.46875\n",
       "29  2.4734375 19.69517 4.085938 13.103125 15.00781\n",
       "30  2.5775925 19.79277 4.014205 13.501420 15.53835\n",
       "... ...       ...      ...      ...       ...     \n",
       "344 261.9235  53.58435 68.25435  92.98130 79.60913\n",
       "345 265.1758  54.01421 70.70210  95.43526 83.59000\n",
       "346 264.4022  55.13130 75.14783  96.52304 82.03391\n",
       "347 268.9914  58.79048 81.82048  99.58524 79.26238\n",
       "348 258.5379  56.42789 75.72053  92.00737 73.23684\n",
       "349 255.8448  56.62524 71.19143  95.80905 71.61429\n",
       "350 264.0974  55.13210 71.57474  97.77526 76.77053\n",
       "351 245.9905  57.99476 62.42095  98.27571 80.39667\n",
       "352 235.7271  58.11381 54.56143 100.89952 81.58667\n",
       "353 240.5455  57.44000 52.50818 101.35909 75.48727\n",
       "354 245.5270  57.29950 52.41100 108.23500 75.14350\n",
       "355 253.7532  56.92318 55.08818 112.88364 75.88091\n",
       "356 240.7136  56.32000 51.30182 110.29409 69.42636\n",
       "357 228.2150  59.72100 54.45500 116.83600 71.54850\n",
       "358 234.8257  60.15348 54.26478 118.59435 68.40478\n",
       "359 265.3285  59.71650 60.64500 119.31650 69.68600\n",
       "360 287.4481  61.07143 58.44905 119.55095 69.45667\n",
       "361 291.3343  59.83286 54.59190 116.21095 67.82191\n",
       "362 286.2432  58.05579 51.25053 115.63632 58.64000\n",
       "363 250.2177  53.99136 46.65591 114.41727 40.22545\n",
       "364 272.0333  57.11048 43.42476 125.78810 42.29333\n",
       "365 290.8275  55.45500 40.87600 124.07350 44.49100\n",
       "366 296.4864  56.15955 42.99000 120.50636 47.61773\n",
       "367 301.5655  55.78727 40.82909 128.98182 43.41909\n",
       "368 314.4033  58.75381 40.47905 132.46905 42.34619\n",
       "369 305.8033  59.87333 35.90143 138.90714 36.75238\n",
       "370 320.7236  58.24227 36.40636 142.59500 33.67818\n",
       "371 342.9505  59.88100 39.07450 148.10000 36.85050\n",
       "372 342.6273  60.10091 40.74727 146.57682 41.89273\n",
       "373 350.4316  57.29158 47.30421 145.75842 46.54211"
      ]
     },
     "metadata": {},
     "output_type": "display_data"
    }
   ],
   "source": [
    "down_avg"
   ]
  }
 ],
 "metadata": {
  "kernelspec": {
   "display_name": "R",
   "language": "R",
   "name": "ir"
  },
  "language_info": {
   "codemirror_mode": "r",
   "file_extension": ".r",
   "mimetype": "text/x-r-source",
   "name": "R",
   "pygments_lexer": "r",
   "version": "4.0.4"
  }
 },
 "nbformat": 4,
 "nbformat_minor": 5
}
