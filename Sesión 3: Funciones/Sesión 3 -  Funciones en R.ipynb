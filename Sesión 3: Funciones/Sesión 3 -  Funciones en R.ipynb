{
 "cells": [
  {
   "cell_type": "markdown",
   "id": "theoretical-right",
   "metadata": {},
   "source": [
    "<img src=\"./images/logo1.png\">"
   ]
  },
  {
   "cell_type": "markdown",
   "id": "linear-neighbor",
   "metadata": {},
   "source": [
    "# <center> Introducción al Análisis de Datos con R "
   ]
  },
  {
   "cell_type": "markdown",
   "id": "ordered-prior",
   "metadata": {},
   "source": [
    "## Sesión 3: Funciones."
   ]
  },
  {
   "cell_type": "markdown",
   "id": "third-encyclopedia",
   "metadata": {},
   "source": [
    "- Funciones"
   ]
  },
  {
   "cell_type": "markdown",
   "id": "imposed-baseline",
   "metadata": {},
   "source": [
    "## Media"
   ]
  },
  {
   "cell_type": "markdown",
   "id": "crucial-penalty",
   "metadata": {},
   "source": [
    "$$ \\bar{x} = \\frac{1}{n} \\sum_{i=1}^{n} x_i $$"
   ]
  },
  {
   "cell_type": "markdown",
   "id": "explicit-heather",
   "metadata": {},
   "source": [
    "**[Ejercicio 1]** Vamos a escribir una función que nos calcule la media dado un vector."
   ]
  },
  {
   "cell_type": "code",
   "execution_count": 2,
   "id": "scheduled-nebraska",
   "metadata": {},
   "outputs": [],
   "source": [
    "# llamar a la función my_mean \n",
    "my_mean <- function(x){\n",
    "    # cuenta el número de valores de x\n",
    "    count <- 0 \n",
    "    # suma los valores de x\n",
    "    sum <- 0\n",
    "    # iteración del vector\n",
    "    for(i in 1:length(x)){\n",
    "        count <- count +1\n",
    "        sum <- sum + x[i]\n",
    "    }\n",
    "    # salida de la función\n",
    "    return(sum/count)\n",
    "}"
   ]
  },
  {
   "cell_type": "code",
   "execution_count": 3,
   "id": "formed-interpretation",
   "metadata": {},
   "outputs": [
    {
     "data": {
      "text/html": [
       "<style>\n",
       ".list-inline {list-style: none; margin:0; padding: 0}\n",
       ".list-inline>li {display: inline-block}\n",
       ".list-inline>li:not(:last-child)::after {content: \"\\00b7\"; padding: 0 .5ex}\n",
       "</style>\n",
       "<ol class=list-inline><li>1</li><li>2</li><li>3</li><li>4</li><li>5</li><li>6</li><li>7</li><li>8</li><li>9</li><li>10</li></ol>\n"
      ],
      "text/latex": [
       "\\begin{enumerate*}\n",
       "\\item 1\n",
       "\\item 2\n",
       "\\item 3\n",
       "\\item 4\n",
       "\\item 5\n",
       "\\item 6\n",
       "\\item 7\n",
       "\\item 8\n",
       "\\item 9\n",
       "\\item 10\n",
       "\\end{enumerate*}\n"
      ],
      "text/markdown": [
       "1. 1\n",
       "2. 2\n",
       "3. 3\n",
       "4. 4\n",
       "5. 5\n",
       "6. 6\n",
       "7. 7\n",
       "8. 8\n",
       "9. 9\n",
       "10. 10\n",
       "\n",
       "\n"
      ],
      "text/plain": [
       " [1]  1  2  3  4  5  6  7  8  9 10"
      ]
     },
     "metadata": {},
     "output_type": "display_data"
    }
   ],
   "source": [
    "# vector\n",
    "x <- 1:10\n",
    "x"
   ]
  },
  {
   "cell_type": "code",
   "execution_count": 5,
   "id": "equal-kenya",
   "metadata": {},
   "outputs": [
    {
     "data": {
      "text/html": [
       "5.5"
      ],
      "text/latex": [
       "5.5"
      ],
      "text/markdown": [
       "5.5"
      ],
      "text/plain": [
       "[1] 5.5"
      ]
     },
     "metadata": {},
     "output_type": "display_data"
    }
   ],
   "source": [
    "# calculamos la media del vector \"x\"\n",
    "my_mean(x)"
   ]
  },
  {
   "cell_type": "markdown",
   "id": "divided-large",
   "metadata": {},
   "source": [
    "## Media con datos faltantes"
   ]
  },
  {
   "cell_type": "markdown",
   "id": "documentary-founder",
   "metadata": {},
   "source": [
    "Supongamos que tenemos un dato faltante en nuestro vector. "
   ]
  },
  {
   "cell_type": "code",
   "execution_count": 17,
   "id": "automotive-research",
   "metadata": {},
   "outputs": [],
   "source": [
    "x <- c(1, 2, 3, 4, 5, 6, NA, 7, 8, 9, 10)"
   ]
  },
  {
   "cell_type": "markdown",
   "id": "senior-indian",
   "metadata": {},
   "source": [
    "Calculamos la media del vector"
   ]
  },
  {
   "cell_type": "code",
   "execution_count": 75,
   "id": "written-positive",
   "metadata": {},
   "outputs": [
    {
     "data": {
      "text/html": [
       "&lt;NA&gt;"
      ],
      "text/latex": [
       "<NA>"
      ],
      "text/markdown": [
       "&lt;NA&gt;"
      ],
      "text/plain": [
       "[1] NA"
      ]
     },
     "metadata": {},
     "output_type": "display_data"
    }
   ],
   "source": [
    "my_mean(x)"
   ]
  },
  {
   "cell_type": "markdown",
   "id": "understanding-compression",
   "metadata": {},
   "source": [
    "Nuestra función **my_mean()** no nos permite excluir valores faltantes. Lo que tenemos que hacer es agregar un poco de código para solucionar ese problema."
   ]
  },
  {
   "cell_type": "code",
   "execution_count": 14,
   "id": "painted-performer",
   "metadata": {},
   "outputs": [],
   "source": [
    "# Función\n",
    "my_mean2 <- function(x){\n",
    "    count <- 0\n",
    "    sum <- 0\n",
    "    for(i in 1:length(x)){\n",
    "        if(is.na(x[i])){\n",
    "            next\n",
    "        }else{\n",
    "            count <- count + 1\n",
    "            sum <- sum + x[i]\n",
    "        }\n",
    "        \n",
    "    }\n",
    "    return(sum/count)\n",
    "}"
   ]
  },
  {
   "cell_type": "code",
   "execution_count": 21,
   "id": "serial-passing",
   "metadata": {},
   "outputs": [],
   "source": [
    "# tenemos nuestro vector\n",
    "x <- c(1, 2, 3, 4, 5, 6, NA, 7, 8, 9, 10)"
   ]
  },
  {
   "cell_type": "code",
   "execution_count": 18,
   "id": "standing-slovak",
   "metadata": {},
   "outputs": [
    {
     "data": {
      "text/html": [
       "5.5"
      ],
      "text/latex": [
       "5.5"
      ],
      "text/markdown": [
       "5.5"
      ],
      "text/plain": [
       "[1] 5.5"
      ]
     },
     "metadata": {},
     "output_type": "display_data"
    }
   ],
   "source": [
    "# calculamos la media del vector \"x\"\n",
    "my_mean2(x)"
   ]
  },
  {
   "cell_type": "code",
   "execution_count": 11,
   "id": "circular-river",
   "metadata": {},
   "outputs": [],
   "source": [
    "# Función para calcular la media con un argumento adicional \"rm.na\" con valor por defecto\n",
    "my_mean3 <- function(x, rm.na=TRUE){\n",
    "    count <- 0\n",
    "    sum <- 0\n",
    "    for(i in 1:length(x)){\n",
    "        if(rm.na){\n",
    "            if(is.na(x[i])){\n",
    "                next\n",
    "            }else{\n",
    "                count <- count + 1\n",
    "                sum <- sum + x[i]\n",
    "            }\n",
    "        }else{\n",
    "             count <- count + 1\n",
    "             sum <- sum + x[i]\n",
    "        }\n",
    "    }\n",
    "    return(sum/count)\n",
    "}"
   ]
  },
  {
   "cell_type": "code",
   "execution_count": null,
   "id": "typical-consensus",
   "metadata": {},
   "outputs": [],
   "source": [
    "# tenemos nuestro vector\n",
    "x <- c(1, 2, 3, 4, 5, 6, NA, 7, 8, 9, 10)"
   ]
  },
  {
   "cell_type": "code",
   "execution_count": 19,
   "id": "reserved-sapphire",
   "metadata": {},
   "outputs": [
    {
     "data": {
      "text/html": [
       "5.5"
      ],
      "text/latex": [
       "5.5"
      ],
      "text/markdown": [
       "5.5"
      ],
      "text/plain": [
       "[1] 5.5"
      ]
     },
     "metadata": {},
     "output_type": "display_data"
    }
   ],
   "source": [
    "# calculamos la media del vector \"x\" con rm.na=TRUE\n",
    "my_mean3(x, rm.na=TRUE)"
   ]
  },
  {
   "cell_type": "code",
   "execution_count": 20,
   "id": "skilled-madagascar",
   "metadata": {},
   "outputs": [
    {
     "data": {
      "text/html": [
       "&lt;NA&gt;"
      ],
      "text/latex": [
       "<NA>"
      ],
      "text/markdown": [
       "&lt;NA&gt;"
      ],
      "text/plain": [
       "[1] NA"
      ]
     },
     "metadata": {},
     "output_type": "display_data"
    }
   ],
   "source": [
    "# calculamos la media del vector \"x\" con rm.na=FALSE\n",
    "my_mean3(x, rm.na=FALSE)"
   ]
  }
 ],
 "metadata": {
  "kernelspec": {
   "display_name": "R",
   "language": "R",
   "name": "ir"
  },
  "language_info": {
   "codemirror_mode": "r",
   "file_extension": ".r",
   "mimetype": "text/x-r-source",
   "name": "R",
   "pygments_lexer": "r",
   "version": "4.0.4"
  }
 },
 "nbformat": 4,
 "nbformat_minor": 5
}
